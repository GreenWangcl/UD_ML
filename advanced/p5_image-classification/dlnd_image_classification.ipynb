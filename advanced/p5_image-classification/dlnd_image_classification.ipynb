{
 "cells": [
  {
   "cell_type": "markdown",
   "metadata": {
    "collapsed": true
   },
   "source": [
    "# 图像分类\n",
    "\n",
    "在此项目中，你将对 [CIFAR-10 数据集](https://www.cs.toronto.edu/~kriz/cifar.html) 中的图片进行分类。该数据集包含飞机、猫狗和其他物体。你需要预处理这些图片，然后用所有样本训练一个卷积神经网络。图片需要标准化（normalized），标签需要采用 one-hot 编码。你需要应用所学的知识构建卷积的、最大池化（max pooling）、丢弃（dropout）和完全连接（fully connected）的层。最后，你需要在样本图片上看到神经网络的预测结果。\n",
    "\n",
    "\n",
    "## 获取数据\n",
    "\n",
    "请运行以下单元，以下载 [CIFAR-10 数据集（Python版）](https://www.cs.toronto.edu/~kriz/cifar-10-python.tar.gz)。\n"
   ]
  },
  {
   "cell_type": "code",
   "execution_count": 1,
   "metadata": {},
   "outputs": [
    {
     "name": "stdout",
     "output_type": "stream",
     "text": [
      "All files found!\n"
     ]
    }
   ],
   "source": [
    "\"\"\"\n",
    "DON'T MODIFY ANYTHING IN THIS CELL THAT IS BELOW THIS LINE\n",
    "\"\"\"\n",
    "from urllib.request import urlretrieve\n",
    "from os.path import isfile, isdir\n",
    "from tqdm import tqdm\n",
    "import problem_unittests as tests\n",
    "import tarfile\n",
    "\n",
    "cifar10_dataset_folder_path = 'cifar-10-batches-py'\n",
    "\n",
    "# Use Floyd's cifar-10 dataset if present\n",
    "floyd_cifar10_location = '/input/cifar-10/python.tar.gz'\n",
    "if isfile(floyd_cifar10_location):\n",
    "    tar_gz_path = floyd_cifar10_location\n",
    "else:\n",
    "    tar_gz_path = 'cifar-10-python.tar.gz'\n",
    "\n",
    "class DLProgress(tqdm):\n",
    "    last_block = 0\n",
    "\n",
    "    def hook(self, block_num=1, block_size=1, total_size=None):\n",
    "        self.total = total_size\n",
    "        self.update((block_num - self.last_block) * block_size)\n",
    "        self.last_block = block_num\n",
    "\n",
    "if not isfile(tar_gz_path):\n",
    "    with DLProgress(unit='B', unit_scale=True, miniters=1, desc='CIFAR-10 Dataset') as pbar:\n",
    "        urlretrieve(\n",
    "            'https://www.cs.toronto.edu/~kriz/cifar-10-python.tar.gz',\n",
    "            tar_gz_path,\n",
    "            pbar.hook)\n",
    "\n",
    "if not isdir(cifar10_dataset_folder_path):\n",
    "    with tarfile.open(tar_gz_path) as tar:\n",
    "        tar.extractall()\n",
    "        tar.close()\n",
    "\n",
    "\n",
    "tests.test_folder_path(cifar10_dataset_folder_path)"
   ]
  },
  {
   "cell_type": "markdown",
   "metadata": {},
   "source": [
    "## 探索数据\n",
    "\n",
    "该数据集分成了几部分／批次（batches），以免你的机器在计算时内存不足。CIFAR-10 数据集包含 5 个部分，名称分别为 `data_batch_1`、`data_batch_2`，以此类推。每个部分都包含以下某个类别的标签和图片：\n",
    "\n",
    "* 飞机\n",
    "* 汽车\n",
    "* 鸟类\n",
    "* 猫\n",
    "* 鹿\n",
    "* 狗\n",
    "* 青蛙\n",
    "* 马\n",
    "* 船只\n",
    "* 卡车\n",
    "\n",
    "了解数据集也是对数据进行预测的必经步骤。你可以通过更改 `batch_id` 和 `sample_id` 探索下面的代码单元。`batch_id` 是数据集一个部分的 ID（1 到 5）。`sample_id` 是该部分中图片和标签对（label pair）的 ID。\n",
    "\n",
    "问问你自己：“可能的标签有哪些？”、“图片数据的值范围是多少？”、“标签是按顺序排列，还是随机排列的？”。思考类似的问题，有助于你预处理数据，并使预测结果更准确。\n"
   ]
  },
  {
   "cell_type": "code",
   "execution_count": 7,
   "metadata": {},
   "outputs": [
    {
     "name": "stdout",
     "output_type": "stream",
     "text": [
      "\n",
      "Stats of batch 3:\n",
      "Samples: 10000\n",
      "Label Counts: {0: 994, 1: 1042, 2: 965, 3: 997, 4: 990, 5: 1029, 6: 978, 7: 1015, 8: 961, 9: 1029}\n",
      "First 20 Labels: [8, 5, 0, 6, 9, 2, 8, 3, 6, 2, 7, 4, 6, 9, 0, 0, 7, 3, 7, 2]\n",
      "\n",
      "Example of Image 9:\n",
      "Image - Min Value: 11 Max Value: 254\n",
      "Image - Shape: (32, 32, 3)\n",
      "Label - Label Id: 2 Name: bird\n"
     ]
    },
    {
     "data": {
      "image/png": "[encoded data removed]",
      "text/plain": [
       "<Figure size 432x288 with 1 Axes>"
      ]
     },
     "metadata": {
      "image/png": {
       "height": 250,
       "width": 253
      }
     },
     "output_type": "display_data"
    }
   ],
   "source": [
    "%matplotlib inline\n",
    "%config InlineBackend.figure_format = 'retina'\n",
    "\n",
    "import helper\n",
    "import numpy as np\n",
    "\n",
    "# Explore the dataset\n",
    "batch_id = 3\n",
    "sample_id = 9\n",
    "helper.display_stats(cifar10_dataset_folder_path, batch_id, sample_id)"
   ]
  },
  {
   "cell_type": "markdown",
   "metadata": {},
   "source": [
    "## 实现预处理函数\n",
    "\n",
    "### 标准化\n",
    "\n",
    "在下面的单元中，实现 `normalize` 函数，传入图片数据 `x`，并返回标准化 Numpy 数组。值应该在 0 到 1 的范围内（含 0 和 1）。返回对象应该和 `x` 的形状一样。\n"
   ]
  },
  {
   "cell_type": "code",
   "execution_count": 8,
   "metadata": {},
   "outputs": [
    {
     "name": "stdout",
     "output_type": "stream",
     "text": [
      "Tests Passed\n"
     ]
    }
   ],
   "source": [
    "from sklearn import preprocessing\n",
    "\n",
    "def normalize(x):\n",
    "    \"\"\"\n",
    "    Normalize a list of sample image data in the range of 0 to 1\n",
    "    : x: List of image data.  The image shape is (32, 32, 3)\n",
    "    : return: Numpy array of normalize data\n",
    "    \"\"\"\n",
    "    # TODO: Implement Function\n",
    "    x_max = np.max(x)\n",
    "    x_min = np.min(x)\n",
    "    return (x - x_min) / (x_max - x_min)\n",
    "\n",
    "\n",
    "\"\"\"\n",
    "DON'T MODIFY ANYTHING IN THIS CELL THAT IS BELOW THIS LINE\n",
    "\"\"\"\n",
    "tests.test_normalize(normalize)"
   ]
  },
  {
   "cell_type": "markdown",
   "metadata": {},
   "source": [
    "### One-hot 编码\n",
    "\n",
    "和之前的代码单元一样，你将为预处理实现一个函数。这次，你将实现 `one_hot_encode` 函数。输入，也就是 `x`，是一个标签列表。实现该函数，以返回为 one_hot 编码的 Numpy 数组的标签列表。标签的可能值为 0 到 9。每次调用 `one_hot_encode` 时，对于每个值，one_hot 编码函数应该返回相同的编码。确保将编码映射保存到该函数外面。\n",
    "\n",
    "提示：不要重复发明轮子。\n"
   ]
  },
  {
   "cell_type": "code",
   "execution_count": 9,
   "metadata": {},
   "outputs": [
    {
     "name": "stdout",
     "output_type": "stream",
     "text": [
      "Tests Passed\n"
     ]
    }
   ],
   "source": [
    "def one_hot_encode(x):\n",
    "    \"\"\"\n",
    "    One hot encode a list of sample labels. Return a one-hot encoded vector for each label.\n",
    "    : x: List of sample Labels\n",
    "    : return: Numpy array of one-hot encoded labels\n",
    "    \"\"\"\n",
    "    # TODO: Implement Function\n",
    "    return np.eye(np.max(x) + 1)[x]\n",
    "\n",
    "\n",
    "\"\"\"\n",
    "DON'T MODIFY ANYTHING IN THIS CELL THAT IS BELOW THIS LINE\n",
    "\"\"\"\n",
    "tests.test_one_hot_encode(one_hot_encode)"
   ]
  },
  {
   "cell_type": "markdown",
   "metadata": {},
   "source": [
    "### 随机化数据\n",
    "\n",
    "之前探索数据时，你已经了解到，样本的顺序是随机的。再随机化一次也不会有什么关系，但是对于这个数据集没有必要。\n"
   ]
  },
  {
   "cell_type": "markdown",
   "metadata": {},
   "source": [
    "## 预处理所有数据并保存\n",
    "\n",
    "运行下方的代码单元，将预处理所有 CIFAR-10 数据，并保存到文件中。下面的代码还使用了 10% 的训练数据，用来验证。\n"
   ]
  },
  {
   "cell_type": "code",
   "execution_count": 10,
   "metadata": {},
   "outputs": [],
   "source": [
    "\"\"\"\n",
    "DON'T MODIFY ANYTHING IN THIS CELL\n",
    "\"\"\"\n",
    "# Preprocess Training, Validation, and Testing Data\n",
    "helper.preprocess_and_save_data(cifar10_dataset_folder_path, normalize, one_hot_encode)"
   ]
  },
  {
   "cell_type": "markdown",
   "metadata": {},
   "source": [
    "# 检查点\n",
    "\n",
    "这是你的第一个检查点。如果你什么时候决定再回到该记事本，或需要重新启动该记事本，你可以从这里开始。预处理的数据已保存到本地。\n"
   ]
  },
  {
   "cell_type": "code",
   "execution_count": 11,
   "metadata": {},
   "outputs": [],
   "source": [
    "\"\"\"\n",
    "DON'T MODIFY ANYTHING IN THIS CELL\n",
    "\"\"\"\n",
    "import pickle\n",
    "import problem_unittests as tests\n",
    "import helper\n",
    "\n",
    "# Load the Preprocessed Validation data\n",
    "valid_features, valid_labels = pickle.load(open('preprocess_validation.p', mode='rb'))"
   ]
  },
  {
   "cell_type": "markdown",
   "metadata": {},
   "source": [
    "## 构建网络\n",
    "\n",
    "对于该神经网络，你需要将每层都构建为一个函数。你看到的大部分代码都位于函数外面。要更全面地测试你的代码，我们需要你将每层放入一个函数中。这样使我们能够提供更好的反馈，并使用我们的统一测试检测简单的错误，然后再提交项目。\n",
    "\n",
    ">**注意**：如果你觉得每周很难抽出足够的时间学习这门课程，我们为此项目提供了一个小捷径。对于接下来的几个问题，你可以使用 [TensorFlow Layers](https://www.tensorflow.org/api_docs/python/tf/layers) 或 [TensorFlow Layers (contrib)](https://www.tensorflow.org/api_guides/python/contrib.layers) 程序包中的类来构建每个层级，但是“卷积和最大池化层级”部分的层级除外。TF Layers 和 Keras 及 TFLearn 层级类似，因此很容易学会。\n",
    "\n",
    ">但是，如果你想充分利用这门课程，请尝试自己解决所有问题，不使用 TF Layers 程序包中的任何类。你依然可以使用其他程序包中的类，这些类和你在 TF Layers 中的类名称是一样的！例如，你可以使用 TF Neural Network 版本的 `conv2d` 类 [tf.nn.conv2d](https://www.tensorflow.org/api_docs/python/tf/nn/conv2d)，而不是 TF Layers 版本的 `conv2d` 类 [tf.layers.conv2d](https://www.tensorflow.org/api_docs/python/tf/layers/conv2d)。\n",
    "\n",
    "我们开始吧！\n",
    "\n",
    "\n",
    "### 输入\n",
    "\n",
    "神经网络需要读取图片数据、one-hot 编码标签和丢弃保留概率（dropout keep probability）。请实现以下函数：\n",
    "\n",
    "* 实现 `neural_net_image_input`\n",
    " * 返回 [TF Placeholder](https://www.tensorflow.org/api_docs/python/tf/placeholder)\n",
    " * 使用 `image_shape` 设置形状，部分大小设为 `None`\n",
    " * 使用 [TF Placeholder](https://www.tensorflow.org/api_docs/python/tf/placeholder) 中的 TensorFlow `name` 参数对 TensorFlow 占位符 \"x\" 命名\n",
    "* 实现 `neural_net_label_input`\n",
    " * 返回 [TF Placeholder](https://www.tensorflow.org/api_docs/python/tf/placeholder)\n",
    " * 使用 `n_classes` 设置形状，部分大小设为 `None`\n",
    " * 使用 [TF Placeholder](https://www.tensorflow.org/api_docs/python/tf/placeholder) 中的 TensorFlow `name` 参数对 TensorFlow 占位符 \"y\" 命名\n",
    "* 实现 `neural_net_keep_prob_input`\n",
    " * 返回 [TF Placeholder](https://www.tensorflow.org/api_docs/python/tf/placeholder)，用于丢弃保留概率\n",
    " * 使用 [TF Placeholder](https://www.tensorflow.org/api_docs/python/tf/placeholder) 中的 TensorFlow `name` 参数对 TensorFlow 占位符 \"keep_prob\" 命名\n",
    "\n",
    "这些名称将在项目结束时，用于加载保存的模型。\n",
    "\n",
    "注意：TensorFlow 中的 `None` 表示形状可以是动态大小。"
   ]
  },
  {
   "cell_type": "code",
   "execution_count": 12,
   "metadata": {},
   "outputs": [
    {
     "name": "stdout",
     "output_type": "stream",
     "text": [
      "Image Input Tests Passed.\n",
      "Label Input Tests Passed.\n",
      "Keep Prob Tests Passed.\n"
     ]
    }
   ],
   "source": [
    "import tensorflow as tf\n",
    "\n",
    "def neural_net_image_input(image_shape):\n",
    "    \"\"\"\n",
    "    Return a Tensor for a batch of image input\n",
    "    : image_shape: Shape of the images\n",
    "    : return: Tensor for image input.\n",
    "    \"\"\"\n",
    "    # TODO: Implement Function\n",
    "    return tf.placeholder(\n",
    "        tf.float32,\n",
    "        [None, image_shape[0], image_shape[1], 3],\n",
    "        name='x'\n",
    "    )\n",
    "\n",
    "\n",
    "def neural_net_label_input(n_classes):\n",
    "    \"\"\"\n",
    "    Return a Tensor for a batch of label input\n",
    "    : n_classes: Number of classes\n",
    "    : return: Tensor for label input.\n",
    "    \"\"\"\n",
    "    # TODO: Implement Function\n",
    "    return tf.placeholder(\n",
    "        tf.float32,\n",
    "        [None, n_classes],\n",
    "        name='y'\n",
    "    )\n",
    "\n",
    "\n",
    "def neural_net_keep_prob_input():\n",
    "    \"\"\"\n",
    "    Return a Tensor for keep probability\n",
    "    : return: Tensor for keep probability.\n",
    "    \"\"\"\n",
    "    # TODO: Implement Function\n",
    "    return tf.placeholder(tf.float32, name='keep_prob')\n",
    "\n",
    "\n",
    "\"\"\"\n",
    "DON'T MODIFY ANYTHING IN THIS CELL THAT IS BELOW THIS LINE\n",
    "\"\"\"\n",
    "tf.reset_default_graph()\n",
    "tests.test_nn_image_inputs(neural_net_image_input)\n",
    "tests.test_nn_label_inputs(neural_net_label_input)\n",
    "tests.test_nn_keep_prob_inputs(neural_net_keep_prob_input)"
   ]
  },
  {
   "cell_type": "markdown",
   "metadata": {},
   "source": [
    "### 卷积和最大池化层\n",
    "\n",
    "卷积层级适合处理图片。对于此代码单元，你应该实现函数 `conv2d_maxpool` 以便应用卷积然后进行最大池化：\n",
    "\n",
    "* 使用 `conv_ksize`、`conv_num_outputs` 和 `x_tensor` 的形状创建权重（weight）和偏置（bias）。\n",
    "* 使用权重和 `conv_strides` 对 `x_tensor` 应用卷积。\n",
    " * 建议使用我们建议的间距（padding），当然也可以使用任何其他间距。\n",
    "* 添加偏置\n",
    "* 向卷积中添加非线性激活（nonlinear activation）\n",
    "* 使用 `pool_ksize` 和 `pool_strides` 应用最大池化\n",
    " * 建议使用我们建议的间距（padding），当然也可以使用任何其他间距。\n",
    "\n",
    "**注意**：对于**此层**，**请勿使用** [TensorFlow Layers](https://www.tensorflow.org/api_docs/python/tf/layers) 或 [TensorFlow Layers (contrib)](https://www.tensorflow.org/api_guides/python/contrib.layers)，但是仍然可以使用 TensorFlow 的 [Neural Network](https://www.tensorflow.org/api_docs/python/tf/nn) 包。对于所有**其他层**，你依然可以使用快捷方法。\n"
   ]
  },
  {
   "cell_type": "code",
   "execution_count": 13,
   "metadata": {},
   "outputs": [
    {
     "name": "stdout",
     "output_type": "stream",
     "text": [
      "Tests Passed\n"
     ]
    }
   ],
   "source": [
    "def conv2d_maxpool(x_tensor, conv_num_outputs, conv_ksize, conv_strides, pool_ksize, pool_strides):\n",
    "    \"\"\"\n",
    "    Apply convolution then max pooling to x_tensor\n",
    "    :param x_tensor: TensorFlow Tensor\n",
    "    :param conv_num_outputs: Number of outputs for the convolutional layer\n",
    "    :param conv_ksize: kernal size 2-D Tuple for the convolutional layer\n",
    "    :param conv_strides: Stride 2-D Tuple for convolution\n",
    "    :param pool_ksize: kernal size 2-D Tuple for pool\n",
    "    :param pool_strides: Stride 2-D Tuple for pool\n",
    "    : return: A tensor that represents convolution and max pooling of x_tensor\n",
    "    \"\"\"\n",
    "    # TODO: Implement Function\n",
    "    input_depth = x_tensor.get_shape().as_list()[-1]\n",
    "    w = tf.Variable(tf.random_normal(\n",
    "        [conv_ksize[0], conv_ksize[1], input_depth, conv_num_outputs],\n",
    "        stddev=0.1\n",
    "    ))\n",
    "    b = tf.Variable(tf.zeros(conv_num_outputs))\n",
    "    conv = tf.nn.conv2d(x_tensor, w, [1, conv_strides[0], conv_strides[1], 1], 'SAME') + b\n",
    "    conv = tf.nn.relu(conv)\n",
    "    return tf.nn.max_pool(\n",
    "        conv,\n",
    "        [1, pool_ksize[0], pool_ksize[1], 1],\n",
    "        [1, pool_strides[0], pool_strides[1], 1],\n",
    "        'SAME'\n",
    "    )\n",
    "\n",
    "\n",
    "\"\"\"\n",
    "DON'T MODIFY ANYTHING IN THIS CELL THAT IS BELOW THIS LINE\n",
    "\"\"\"\n",
    "tests.test_con_pool(conv2d_maxpool)"
   ]
  },
  {
   "cell_type": "markdown",
   "metadata": {},
   "source": [
    "### 扁平化层\n",
    "\n",
    "实现 `flatten` 函数，将 `x_tensor` 的维度从四维张量（4-D tensor）变成二维张量。输出应该是形状（*部分大小（Batch Size）*，*扁平化图片大小（Flattened Image Size）*）。快捷方法：对于此层，你可以使用 [TensorFlow Layers](https://www.tensorflow.org/api_docs/python/tf/layers) 或 [TensorFlow Layers (contrib)](https://www.tensorflow.org/api_guides/python/contrib.layers) 包中的类。如果你想要更大挑战，可以仅使用其他 TensorFlow 程序包。\n"
   ]
  },
  {
   "cell_type": "code",
   "execution_count": 14,
   "metadata": {},
   "outputs": [
    {
     "name": "stdout",
     "output_type": "stream",
     "text": [
      "Tests Passed\n"
     ]
    }
   ],
   "source": [
    "def flatten(x_tensor):\n",
    "    \"\"\"\n",
    "    Flatten x_tensor to (Batch Size, Flattened Image Size)\n",
    "    : x_tensor: A tensor of size (Batch Size, ...), where ... are the image dimensions.\n",
    "    : return: A tensor of size (Batch Size, Flattened Image Size).\n",
    "    \"\"\"\n",
    "    # TODO: Implement Function\n",
    "    shape = x_tensor.get_shape().as_list()\n",
    "    return tf.reshape(x_tensor, [-1, np.prod(shape[1:])])\n",
    "\n",
    "\n",
    "\"\"\"\n",
    "DON'T MODIFY ANYTHING IN THIS CELL THAT IS BELOW THIS LINE\n",
    "\"\"\"\n",
    "tests.test_flatten(flatten)"
   ]
  },
  {
   "cell_type": "markdown",
   "metadata": {},
   "source": [
    "### 全连接层\n",
    "\n",
    "实现 `fully_conn` 函数，以向 `x_tensor` 应用全连接层，形状为（*部分大小（Batch Size）*，*num_outputs*）。快捷方法：对于此层，你可以使用 [TensorFlow Layers](https://www.tensorflow.org/api_docs/python/tf/layers) 或 [TensorFlow Layers (contrib)](https://www.tensorflow.org/api_guides/python/contrib.layers) 包中的类。如果你想要更大挑战，可以仅使用其他 TensorFlow 程序包。"
   ]
  },
  {
   "cell_type": "code",
   "execution_count": 15,
   "metadata": {},
   "outputs": [
    {
     "name": "stdout",
     "output_type": "stream",
     "text": [
      "Tests Passed\n"
     ]
    }
   ],
   "source": [
    "def fully_conn(x_tensor, num_outputs):\n",
    "    \"\"\"\n",
    "    Apply a fully connected layer to x_tensor using weight and bias\n",
    "    : x_tensor: A 2-D tensor where the first dimension is batch size.\n",
    "    : num_outputs: The number of output that the new tensor should be.\n",
    "    : return: A 2-D tensor where the second dimension is num_outputs.\n",
    "    \"\"\"\n",
    "    # TODO: Implement Function\n",
    "    shape = x_tensor.get_shape().as_list()\n",
    "    W = tf.Variable(tf.random_normal([shape[-1], num_outputs], stddev=0.1))\n",
    "    b = tf.Variable(tf.zeros(num_outputs)) + 0.11\n",
    "    return tf.nn.relu(tf.add(tf.matmul(x_tensor, W), b))\n",
    "\n",
    "\n",
    "\"\"\"\n",
    "DON'T MODIFY ANYTHING IN THIS CELL THAT IS BELOW THIS LINE\n",
    "\"\"\"\n",
    "tests.test_fully_conn(fully_conn)"
   ]
  },
  {
   "cell_type": "markdown",
   "metadata": {},
   "source": [
    "### 输出层\n",
    "\n",
    "实现 `output` 函数，向 x_tensor 应用完全连接的层级，形状为（*部分大小（Batch Size）*，*num_outputs*）。快捷方法：对于此层，你可以使用 [TensorFlow Layers](https://www.tensorflow.org/api_docs/python/tf/layers) 或 [TensorFlow Layers (contrib)](https://www.tensorflow.org/api_guides/python/contrib.layers) 包中的类。如果你想要更大挑战，可以仅使用其他 TensorFlow 程序包。\n",
    "\n",
    "**注意**：该层级不应应用 Activation、softmax 或交叉熵（cross entropy）。"
   ]
  },
  {
   "cell_type": "code",
   "execution_count": 16,
   "metadata": {},
   "outputs": [
    {
     "name": "stdout",
     "output_type": "stream",
     "text": [
      "Tests Passed\n"
     ]
    }
   ],
   "source": [
    "def output(x_tensor, num_outputs):\n",
    "    \"\"\"\n",
    "    Apply a output layer to x_tensor using weight and bias\n",
    "    : x_tensor: A 2-D tensor where the first dimension is batch size.\n",
    "    : num_outputs: The number of output that the new tensor should be.\n",
    "    : return: A 2-D tensor where the second dimension is num_outputs.\n",
    "    \"\"\"\n",
    "    # TODO: Implement Function\n",
    "    shape = x_tensor.get_shape().as_list()\n",
    "    W = tf.Variable(tf.random_normal([shape[-1], num_outputs]))\n",
    "    b = tf.Variable(tf.zeros(num_outputs))\n",
    "    return tf.add(tf.matmul(x_tensor, W), b)\n",
    "\n",
    "\n",
    "\"\"\"\n",
    "DON'T MODIFY ANYTHING IN THIS CELL THAT IS BELOW THIS LINE\n",
    "\"\"\"\n",
    "tests.test_output(output)"
   ]
  },
  {
   "cell_type": "markdown",
   "metadata": {},
   "source": [
    "### 创建卷积模型\n",
    "\n",
    "实现函数 `conv_net`， 创建卷积神经网络模型。该函数传入一批图片 `x`，并输出对数（logits）。使用你在上方创建的层创建此模型：\n",
    "\n",
    "* 应用 1、2 或 3 个卷积和最大池化层（Convolution and Max Pool layers）\n",
    "* 应用一个扁平层（Flatten Layer）\n",
    "* 应用 1、2 或 3 个完全连接层（Fully Connected Layers）\n",
    "* 应用一个输出层（Output Layer）\n",
    "* 返回输出\n",
    "* 使用 `keep_prob` 向模型中的一个或多个层应用 [TensorFlow 的 Dropout](https://www.tensorflow.org/api_docs/python/tf/nn/dropout)"
   ]
  },
  {
   "cell_type": "code",
   "execution_count": 18,
   "metadata": {},
   "outputs": [
    {
     "name": "stdout",
     "output_type": "stream",
     "text": [
      "WARNING:tensorflow:From <ipython-input-18-c8efc53f6c22>:63: softmax_cross_entropy_with_logits (from tensorflow.python.ops.nn_ops) is deprecated and will be removed in a future version.\n",
      "Instructions for updating:\n",
      "\n",
      "Future major versions of TensorFlow will allow gradients to flow\n",
      "into the labels input on backprop by default.\n",
      "\n",
      "See tf.nn.softmax_cross_entropy_with_logits_v2.\n",
      "\n",
      "Neural Network Built!\n"
     ]
    }
   ],
   "source": [
    "def conv_net(x, keep_prob):\n",
    "    \"\"\"\n",
    "    Create a convolutional neural network model\n",
    "    : x: Placeholder tensor that holds image data.\n",
    "    : keep_prob: Placeholder tensor that hold dropout keep probability.\n",
    "    : return: Tensor that represents logits\n",
    "    \"\"\"\n",
    "    # TODO: Apply 1, 2, or 3 Convolution and Max Pool layers\n",
    "    #    Play around with different number of outputs, kernel size and stride\n",
    "    # Function Definition from Above:\n",
    "    #    conv2d_maxpool(x_tensor, conv_num_outputs, conv_ksize, conv_strides, pool_ksize, pool_strides)\n",
    "    net = conv2d_maxpool(x, 64, [3, 3], [1, 1], [3, 3], [2, 2])\n",
    "    tf.nn.dropout(net, keep_prob=keep_prob)\n",
    "\n",
    "    # TODO: Apply a Flatten Layer\n",
    "    # Function Definition from Above:\n",
    "    #   flatten(x_tensor)\n",
    "    net = flatten(net)\n",
    "\n",
    "    # TODO: Apply 1, 2, or 3 Fully Connected Layers\n",
    "    #    Play around with different number of outputs\n",
    "    # Function Definition from Above:\n",
    "    #   fully_conn(x_tensor, num_outputs)\n",
    "    net = fully_conn(net, 384)\n",
    "    tf.nn.dropout(net, keep_prob=keep_prob)\n",
    "    net = fully_conn(net, 192)\n",
    "    tf.nn.dropout(net, keep_prob=keep_prob)\n",
    "    \n",
    "    \n",
    "    # TODO: Apply an Output Layer\n",
    "    #    Set this to the number of classes\n",
    "    # Function Definition from Above:\n",
    "    #   output(x_tensor, num_outputs)\n",
    "    \n",
    "    # TODO: return output\n",
    "    return output(net, 10)\n",
    "\n",
    "\n",
    "\"\"\"\n",
    "DON'T MODIFY ANYTHING IN THIS CELL THAT IS BELOW THIS LINE\n",
    "\"\"\"\n",
    "\n",
    "##############################\n",
    "## Build the Neural Network ##\n",
    "##############################\n",
    "\n",
    "# Remove previous weights, bias, inputs, etc..\n",
    "tf.reset_default_graph()\n",
    "\n",
    "# Inputs\n",
    "x = neural_net_image_input((32, 32, 3))\n",
    "y = neural_net_label_input(10)\n",
    "keep_prob = neural_net_keep_prob_input()\n",
    "\n",
    "# Model\n",
    "logits = conv_net(x, keep_prob)\n",
    "\n",
    "# Name logits Tensor, so that is can be loaded from disk after training\n",
    "logits = tf.identity(logits, name='logits')\n",
    "\n",
    "# Loss and Optimizer\n",
    "cost = tf.reduce_mean(tf.nn.softmax_cross_entropy_with_logits(logits=logits, labels=y))\n",
    "optimizer = tf.train.AdamOptimizer().minimize(cost)\n",
    "\n",
    "# Accuracy\n",
    "correct_pred = tf.equal(tf.argmax(logits, 1), tf.argmax(y, 1))\n",
    "accuracy = tf.reduce_mean(tf.cast(correct_pred, tf.float32), name='accuracy')\n",
    "\n",
    "tests.test_conv_net(conv_net)"
   ]
  },
  {
   "cell_type": "markdown",
   "metadata": {},
   "source": [
    "## 训练神经网络\n",
    "\n",
    "### 单次优化\n",
    "\n",
    "实现函数 `train_neural_network` 以进行单次优化（single optimization）。该优化应该使用 `optimizer` 优化 `session`，其中 `feed_dict` 具有以下参数：\n",
    "\n",
    "* `x` 表示图片输入\n",
    "* `y` 表示标签\n",
    "* `keep_prob` 表示丢弃的保留率\n",
    "\n",
    "每个部分都会调用该函数，所以 `tf.global_variables_initializer()` 已经被调用。\n",
    "\n",
    "注意：不需要返回任何内容。该函数只是用来优化神经网络。\n"
   ]
  },
  {
   "cell_type": "code",
   "execution_count": 19,
   "metadata": {},
   "outputs": [
    {
     "name": "stdout",
     "output_type": "stream",
     "text": [
      "Tests Passed\n"
     ]
    }
   ],
   "source": [
    "def train_neural_network(session, optimizer, keep_probability, feature_batch, label_batch):\n",
    "    \"\"\"\n",
    "    Optimize the session on a batch of images and labels\n",
    "    : session: Current TensorFlow session\n",
    "    : optimizer: TensorFlow optimizer function\n",
    "    : keep_probability: keep probability\n",
    "    : feature_batch: Batch of Numpy image data\n",
    "    : label_batch: Batch of Numpy label data\n",
    "    \"\"\"\n",
    "    # TODO: Implement Function\n",
    "    session.run(optimizer, feed_dict={x: feature_batch, y: label_batch, keep_prob: keep_probability})\n",
    "\n",
    "\n",
    "\"\"\"\n",
    "DON'T MODIFY ANYTHING IN THIS CELL THAT IS BELOW THIS LINE\n",
    "\"\"\"\n",
    "tests.test_train_nn(train_neural_network)"
   ]
  },
  {
   "cell_type": "markdown",
   "metadata": {},
   "source": [
    "### 显示数据\n",
    "\n",
    "实现函数 `print_stats` 以输出损失和验证准确率。使用全局变量 `valid_features` 和 `valid_labels` 计算验证准确率。使用保留率 `1.0` 计算损失和验证准确率（loss and validation accuracy）。\n"
   ]
  },
  {
   "cell_type": "code",
   "execution_count": 20,
   "metadata": {},
   "outputs": [],
   "source": [
    "def print_stats(session, feature_batch, label_batch, cost, accuracy):\n",
    "    \"\"\"\n",
    "    Print information about loss and validation accuracy\n",
    "    : session: Current TensorFlow session\n",
    "    : feature_batch: Batch of Numpy image data\n",
    "    : label_batch: Batch of Numpy label data\n",
    "    : cost: TensorFlow cost function\n",
    "    : accuracy: TensorFlow accuracy function\n",
    "    \"\"\"\n",
    "    # TODO: Implement Function\n",
    "    global valid_features, valid_labels\n",
    "    validation_accuracy = session.run(\n",
    "        accuracy,\n",
    "        feed_dict={\n",
    "            x: valid_features,\n",
    "            y: valid_labels,\n",
    "            keep_prob: 1.0,\n",
    "        }\n",
    "    )\n",
    "    cost = session.run(\n",
    "        cost,\n",
    "        feed_dict={\n",
    "            x: feature_batch,\n",
    "            y: label_batch,\n",
    "            keep_prob: 1.0,\n",
    "        }\n",
    "    )\n",
    "    print('Cost = {0} - Validation Accuracy = {1}'.format(cost, validation_accuracy))"
   ]
  },
  {
   "cell_type": "markdown",
   "metadata": {},
   "source": [
    "### 超参数\n",
    "\n",
    "调试以下超参数：\n",
    "* 设置 `epochs` 表示神经网络停止学习或开始过拟合的迭代次数\n",
    "* 设置 `batch_size`，表示机器内存允许的部分最大体积。大部分人设为以下常见内存大小：\n",
    "\n",
    " * 64\n",
    " * 128\n",
    " * 256\n",
    " * ...\n",
    "* 设置 `keep_probability` 表示使用丢弃时保留节点的概率"
   ]
  },
  {
   "cell_type": "code",
   "execution_count": 24,
   "metadata": {},
   "outputs": [],
   "source": [
    "# TODO: Tune Parameters\n",
    "epochs = 50\n",
    "batch_size = 1024\n",
    "keep_probability = 0.5"
   ]
  },
  {
   "cell_type": "markdown",
   "metadata": {},
   "source": [
    "### 在单个 CIFAR-10 部分上训练\n",
    "\n",
    "我们先用单个部分，而不是用所有的 CIFAR-10 批次训练神经网络。这样可以节省时间，并对模型进行迭代，以提高准确率。最终验证准确率达到 50% 或以上之后，在下一部分对所有数据运行模型。\n"
   ]
  },
  {
   "cell_type": "code",
   "execution_count": 25,
   "metadata": {
    "scrolled": false
   },
   "outputs": [
    {
     "name": "stdout",
     "output_type": "stream",
     "text": [
      "Checking the Training on a Single Batch...\n",
      "Epoch  1, CIFAR-10 Batch 1:  Cost = 52.993831634521484 - Validation Accuracy = 0.15780000388622284\n",
      "Epoch  2, CIFAR-10 Batch 1:  Cost = 12.302167892456055 - Validation Accuracy = 0.14339999854564667\n",
      "Epoch  3, CIFAR-10 Batch 1:  Cost = 7.0855913162231445 - Validation Accuracy = 0.20180000364780426\n",
      "Epoch  4, CIFAR-10 Batch 1:  Cost = 4.085107803344727 - Validation Accuracy = 0.22220000624656677\n",
      "Epoch  5, CIFAR-10 Batch 1:  Cost = 3.324314832687378 - Validation Accuracy = 0.26339998841285706\n",
      "Epoch  6, CIFAR-10 Batch 1:  Cost = 2.7391180992126465 - Validation Accuracy = 0.28519999980926514\n",
      "Epoch  7, CIFAR-10 Batch 1:  Cost = 2.306633472442627 - Validation Accuracy = 0.32580000162124634\n",
      "Epoch  8, CIFAR-10 Batch 1:  Cost = 1.9926981925964355 - Validation Accuracy = 0.35100001096725464\n",
      "Epoch  9, CIFAR-10 Batch 1:  Cost = 1.7698938846588135 - Validation Accuracy = 0.37400001287460327\n",
      "Epoch 10, CIFAR-10 Batch 1:  Cost = 1.6047587394714355 - Validation Accuracy = 0.3959999978542328\n",
      "Epoch 11, CIFAR-10 Batch 1:  Cost = 1.4651845693588257 - Validation Accuracy = 0.41519999504089355\n",
      "Epoch 12, CIFAR-10 Batch 1:  Cost = 1.3543437719345093 - Validation Accuracy = 0.42800000309944153\n",
      "Epoch 13, CIFAR-10 Batch 1:  Cost = 1.2549314498901367 - Validation Accuracy = 0.4426000118255615\n",
      "Epoch 14, CIFAR-10 Batch 1:  Cost = 1.1699224710464478 - Validation Accuracy = 0.454800009727478\n",
      "Epoch 15, CIFAR-10 Batch 1:  Cost = 1.1065442562103271 - Validation Accuracy = 0.4580000042915344\n",
      "Epoch 16, CIFAR-10 Batch 1:  Cost = 1.0413622856140137 - Validation Accuracy = 0.46540001034736633\n",
      "Epoch 17, CIFAR-10 Batch 1:  Cost = 0.983755886554718 - Validation Accuracy = 0.47119998931884766\n",
      "Epoch 18, CIFAR-10 Batch 1:  Cost = 0.9285339713096619 - Validation Accuracy = 0.4814000129699707\n",
      "Epoch 19, CIFAR-10 Batch 1:  Cost = 0.8800128698348999 - Validation Accuracy = 0.4869999885559082\n",
      "Epoch 20, CIFAR-10 Batch 1:  Cost = 0.8333954811096191 - Validation Accuracy = 0.49000000953674316\n",
      "Epoch 21, CIFAR-10 Batch 1:  Cost = 0.7907441258430481 - Validation Accuracy = 0.49239999055862427\n",
      "Epoch 22, CIFAR-10 Batch 1:  Cost = 0.7533466815948486 - Validation Accuracy = 0.4943999946117401\n",
      "Epoch 23, CIFAR-10 Batch 1:  Cost = 0.7172043919563293 - Validation Accuracy = 0.4966000020503998\n",
      "Epoch 24, CIFAR-10 Batch 1:  Cost = 0.6850850582122803 - Validation Accuracy = 0.4984000027179718\n",
      "Epoch 25, CIFAR-10 Batch 1:  Cost = 0.6556141376495361 - Validation Accuracy = 0.5005999803543091\n",
      "Epoch 26, CIFAR-10 Batch 1:  Cost = 0.6259230971336365 - Validation Accuracy = 0.5004000067710876\n",
      "Epoch 27, CIFAR-10 Batch 1:  Cost = 0.5926147103309631 - Validation Accuracy = 0.5027999877929688\n",
      "Epoch 28, CIFAR-10 Batch 1:  Cost = 0.5557669997215271 - Validation Accuracy = 0.5063999891281128\n",
      "Epoch 29, CIFAR-10 Batch 1:  Cost = 0.5272928476333618 - Validation Accuracy = 0.5130000114440918\n",
      "Epoch 30, CIFAR-10 Batch 1:  Cost = 0.5223227143287659 - Validation Accuracy = 0.5167999863624573\n",
      "Epoch 31, CIFAR-10 Batch 1:  Cost = 0.5167065858840942 - Validation Accuracy = 0.5149999856948853\n",
      "Epoch 32, CIFAR-10 Batch 1:  Cost = 0.46428537368774414 - Validation Accuracy = 0.5145999789237976\n",
      "Epoch 33, CIFAR-10 Batch 1:  Cost = 0.4955834448337555 - Validation Accuracy = 0.5040000081062317\n",
      "Epoch 34, CIFAR-10 Batch 1:  Cost = 0.432077020406723 - Validation Accuracy = 0.5144000053405762\n",
      "Epoch 35, CIFAR-10 Batch 1:  Cost = 0.4012666344642639 - Validation Accuracy = 0.5248000025749207\n",
      "Epoch 36, CIFAR-10 Batch 1:  Cost = 0.3897285759449005 - Validation Accuracy = 0.5217999815940857\n",
      "Epoch 37, CIFAR-10 Batch 1:  Cost = 0.38013985753059387 - Validation Accuracy = 0.521399974822998\n",
      "Epoch 38, CIFAR-10 Batch 1:  Cost = 0.3730352520942688 - Validation Accuracy = 0.5194000005722046\n",
      "Epoch 39, CIFAR-10 Batch 1:  Cost = 0.376897931098938 - Validation Accuracy = 0.5121999979019165\n",
      "Epoch 40, CIFAR-10 Batch 1:  Cost = 0.3905106484889984 - Validation Accuracy = 0.506600022315979\n",
      "Epoch 41, CIFAR-10 Batch 1:  Cost = 0.3567226231098175 - Validation Accuracy = 0.5206000208854675\n",
      "Epoch 42, CIFAR-10 Batch 1:  Cost = 0.4473889172077179 - Validation Accuracy = 0.5088000297546387\n",
      "Epoch 43, CIFAR-10 Batch 1:  Cost = 0.34688466787338257 - Validation Accuracy = 0.5206000208854675\n",
      "Epoch 44, CIFAR-10 Batch 1:  Cost = 0.29964780807495117 - Validation Accuracy = 0.5246000289916992\n",
      "Epoch 45, CIFAR-10 Batch 1:  Cost = 0.3039510250091553 - Validation Accuracy = 0.5288000106811523\n",
      "Epoch 46, CIFAR-10 Batch 1:  Cost = 0.2679745554924011 - Validation Accuracy = 0.5314000248908997\n",
      "Epoch 47, CIFAR-10 Batch 1:  Cost = 0.25248271226882935 - Validation Accuracy = 0.5321999788284302\n",
      "Epoch 48, CIFAR-10 Batch 1:  Cost = 0.25835442543029785 - Validation Accuracy = 0.525600016117096\n",
      "Epoch 49, CIFAR-10 Batch 1:  Cost = 0.26588061451911926 - Validation Accuracy = 0.5149999856948853\n",
      "Epoch 50, CIFAR-10 Batch 1:  Cost = 0.25945335626602173 - Validation Accuracy = 0.5123999714851379\n"
     ]
    }
   ],
   "source": [
    "\"\"\"\n",
    "DON'T MODIFY ANYTHING IN THIS CELL\n",
    "\"\"\"\n",
    "print('Checking the Training on a Single Batch...')\n",
    "with tf.Session() as sess:\n",
    "    # Initializing the variables\n",
    "    sess.run(tf.global_variables_initializer())\n",
    "    \n",
    "    # Training cycle\n",
    "    for epoch in range(epochs):\n",
    "        batch_i = 1\n",
    "        for batch_features, batch_labels in helper.load_preprocess_training_batch(batch_i, batch_size):\n",
    "            train_neural_network(sess, optimizer, keep_probability, batch_features, batch_labels)\n",
    "        print('Epoch {:>2}, CIFAR-10 Batch {}:  '.format(epoch + 1, batch_i), end='')\n",
    "        print_stats(sess, batch_features, batch_labels, cost, accuracy)"
   ]
  },
  {
   "cell_type": "markdown",
   "metadata": {},
   "source": [
    "### 完全训练模型\n",
    "\n",
    "现在，单个 CIFAR-10 部分的准确率已经不错了，试试所有五个部分吧。"
   ]
  },
  {
   "cell_type": "code",
   "execution_count": 26,
   "metadata": {
    "scrolled": false
   },
   "outputs": [
    {
     "name": "stdout",
     "output_type": "stream",
     "text": [
      "Training...\n",
      "Epoch  1, CIFAR-10 Batch 1:  Cost = 52.405921936035156 - Validation Accuracy = 0.10159999877214432\n",
      "Epoch  1, CIFAR-10 Batch 2:  Cost = 11.671210289001465 - Validation Accuracy = 0.16339999437332153\n",
      "Epoch  1, CIFAR-10 Batch 3:  Cost = 7.280552864074707 - Validation Accuracy = 0.18060000240802765\n",
      "Epoch  1, CIFAR-10 Batch 4:  Cost = 3.7999370098114014 - Validation Accuracy = 0.20880000293254852\n",
      "Epoch  1, CIFAR-10 Batch 5:  Cost = 3.4562199115753174 - Validation Accuracy = 0.2526000142097473\n",
      "Epoch  2, CIFAR-10 Batch 1:  Cost = 2.9380745887756348 - Validation Accuracy = 0.2614000141620636\n",
      "Epoch  2, CIFAR-10 Batch 2:  Cost = 2.5132391452789307 - Validation Accuracy = 0.2863999903202057\n",
      "Epoch  2, CIFAR-10 Batch 3:  Cost = 2.3617160320281982 - Validation Accuracy = 0.31380000710487366\n",
      "Epoch  2, CIFAR-10 Batch 4:  Cost = 2.1597275733947754 - Validation Accuracy = 0.33899998664855957\n",
      "Epoch  2, CIFAR-10 Batch 5:  Cost = 2.1361546516418457 - Validation Accuracy = 0.36160001158714294\n",
      "Epoch  3, CIFAR-10 Batch 1:  Cost = 2.014944314956665 - Validation Accuracy = 0.39739999175071716\n",
      "Epoch  3, CIFAR-10 Batch 2:  Cost = 1.8058643341064453 - Validation Accuracy = 0.4043999910354614\n",
      "Epoch  3, CIFAR-10 Batch 3:  Cost = 1.7047889232635498 - Validation Accuracy = 0.4235999882221222\n",
      "Epoch  3, CIFAR-10 Batch 4:  Cost = 1.6493345499038696 - Validation Accuracy = 0.44620001316070557\n",
      "Epoch  3, CIFAR-10 Batch 5:  Cost = 1.6465684175491333 - Validation Accuracy = 0.4544000029563904\n",
      "Epoch  4, CIFAR-10 Batch 1:  Cost = 1.6277872323989868 - Validation Accuracy = 0.4690000116825104\n",
      "Epoch  4, CIFAR-10 Batch 2:  Cost = 1.4994392395019531 - Validation Accuracy = 0.47360000014305115\n",
      "Epoch  4, CIFAR-10 Batch 3:  Cost = 1.4550809860229492 - Validation Accuracy = 0.47540000081062317\n",
      "Epoch  4, CIFAR-10 Batch 4:  Cost = 1.3891404867172241 - Validation Accuracy = 0.492000013589859\n",
      "Epoch  4, CIFAR-10 Batch 5:  Cost = 1.4183777570724487 - Validation Accuracy = 0.5012000203132629\n",
      "Epoch  5, CIFAR-10 Batch 1:  Cost = 1.4362328052520752 - Validation Accuracy = 0.5027999877929688\n",
      "Epoch  5, CIFAR-10 Batch 2:  Cost = 1.3164851665496826 - Validation Accuracy = 0.5058000087738037\n",
      "Epoch  5, CIFAR-10 Batch 3:  Cost = 1.3065015077590942 - Validation Accuracy = 0.5108000040054321\n",
      "Epoch  5, CIFAR-10 Batch 4:  Cost = 1.2447810173034668 - Validation Accuracy = 0.5189999938011169\n",
      "Epoch  5, CIFAR-10 Batch 5:  Cost = 1.2738722562789917 - Validation Accuracy = 0.522599995136261\n",
      "Epoch  6, CIFAR-10 Batch 1:  Cost = 1.3164056539535522 - Validation Accuracy = 0.5242000222206116\n",
      "Epoch  6, CIFAR-10 Batch 2:  Cost = 1.1980006694793701 - Validation Accuracy = 0.526199996471405\n",
      "Epoch  6, CIFAR-10 Batch 3:  Cost = 1.1927450895309448 - Validation Accuracy = 0.5264000296592712\n",
      "Epoch  6, CIFAR-10 Batch 4:  Cost = 1.1532024145126343 - Validation Accuracy = 0.532800018787384\n",
      "Epoch  6, CIFAR-10 Batch 5:  Cost = 1.1691659688949585 - Validation Accuracy = 0.5382000207901001\n",
      "Epoch  7, CIFAR-10 Batch 1:  Cost = 1.2267370223999023 - Validation Accuracy = 0.5386000275611877\n",
      "Epoch  7, CIFAR-10 Batch 2:  Cost = 1.1089032888412476 - Validation Accuracy = 0.5424000024795532\n",
      "Epoch  7, CIFAR-10 Batch 3:  Cost = 1.107672929763794 - Validation Accuracy = 0.5347999930381775\n",
      "Epoch  7, CIFAR-10 Batch 4:  Cost = 1.0760228633880615 - Validation Accuracy = 0.5411999821662903\n",
      "Epoch  7, CIFAR-10 Batch 5:  Cost = 1.0826221704483032 - Validation Accuracy = 0.5559999942779541\n",
      "Epoch  8, CIFAR-10 Batch 1:  Cost = 1.1465129852294922 - Validation Accuracy = 0.5511999726295471\n",
      "Epoch  8, CIFAR-10 Batch 2:  Cost = 1.0339630842208862 - Validation Accuracy = 0.5527999997138977\n",
      "Epoch  8, CIFAR-10 Batch 3:  Cost = 1.0355961322784424 - Validation Accuracy = 0.550000011920929\n",
      "Epoch  8, CIFAR-10 Batch 4:  Cost = 1.0202845335006714 - Validation Accuracy = 0.5595999956130981\n",
      "Epoch  8, CIFAR-10 Batch 5:  Cost = 1.0171518325805664 - Validation Accuracy = 0.5590000152587891\n",
      "Epoch  9, CIFAR-10 Batch 1:  Cost = 1.0785125494003296 - Validation Accuracy = 0.5559999942779541\n",
      "Epoch  9, CIFAR-10 Batch 2:  Cost = 0.9793030619621277 - Validation Accuracy = 0.5633999705314636\n",
      "Epoch  9, CIFAR-10 Batch 3:  Cost = 0.981616199016571 - Validation Accuracy = 0.5547999739646912\n",
      "Epoch  9, CIFAR-10 Batch 4:  Cost = 0.9703091382980347 - Validation Accuracy = 0.5637999773025513\n",
      "Epoch  9, CIFAR-10 Batch 5:  Cost = 0.9484142661094666 - Validation Accuracy = 0.5694000124931335\n",
      "Epoch 10, CIFAR-10 Batch 1:  Cost = 1.0126601457595825 - Validation Accuracy = 0.567799985408783\n",
      "Epoch 10, CIFAR-10 Batch 2:  Cost = 0.926377534866333 - Validation Accuracy = 0.5748000144958496\n",
      "Epoch 10, CIFAR-10 Batch 3:  Cost = 0.9407220482826233 - Validation Accuracy = 0.5633999705314636\n",
      "Epoch 10, CIFAR-10 Batch 4:  Cost = 0.9231978058815002 - Validation Accuracy = 0.5637999773025513\n",
      "Epoch 10, CIFAR-10 Batch 5:  Cost = 0.8755137920379639 - Validation Accuracy = 0.5863999724388123\n",
      "Epoch 11, CIFAR-10 Batch 1:  Cost = 0.9595457315444946 - Validation Accuracy = 0.5825999975204468\n",
      "Epoch 11, CIFAR-10 Batch 2:  Cost = 0.877444863319397 - Validation Accuracy = 0.5884000062942505\n",
      "Epoch 11, CIFAR-10 Batch 3:  Cost = 0.8871518969535828 - Validation Accuracy = 0.5789999961853027\n",
      "Epoch 11, CIFAR-10 Batch 4:  Cost = 0.8668114542961121 - Validation Accuracy = 0.574400007724762\n",
      "Epoch 11, CIFAR-10 Batch 5:  Cost = 0.8592577576637268 - Validation Accuracy = 0.5866000056266785\n",
      "Epoch 12, CIFAR-10 Batch 1:  Cost = 0.9519184827804565 - Validation Accuracy = 0.5795999765396118\n",
      "Epoch 12, CIFAR-10 Batch 2:  Cost = 0.8483193516731262 - Validation Accuracy = 0.5898000001907349\n",
      "Epoch 12, CIFAR-10 Batch 3:  Cost = 0.8412992358207703 - Validation Accuracy = 0.5917999744415283\n",
      "Epoch 12, CIFAR-10 Batch 4:  Cost = 0.8467864990234375 - Validation Accuracy = 0.5784000158309937\n",
      "Epoch 12, CIFAR-10 Batch 5:  Cost = 0.840255081653595 - Validation Accuracy = 0.5911999940872192\n",
      "Epoch 13, CIFAR-10 Batch 1:  Cost = 0.896169900894165 - Validation Accuracy = 0.5807999968528748\n",
      "Epoch 13, CIFAR-10 Batch 2:  Cost = 0.8031064867973328 - Validation Accuracy = 0.5947999954223633\n",
      "Epoch 13, CIFAR-10 Batch 3:  Cost = 0.8414512276649475 - Validation Accuracy = 0.59579998254776\n",
      "Epoch 13, CIFAR-10 Batch 4:  Cost = 0.8629770278930664 - Validation Accuracy = 0.5723999738693237\n",
      "Epoch 13, CIFAR-10 Batch 5:  Cost = 0.7556279301643372 - Validation Accuracy = 0.590399980545044\n",
      "Epoch 14, CIFAR-10 Batch 1:  Cost = 0.8606156706809998 - Validation Accuracy = 0.5917999744415283\n",
      "Epoch 14, CIFAR-10 Batch 2:  Cost = 0.7697146534919739 - Validation Accuracy = 0.5899999737739563\n",
      "Epoch 14, CIFAR-10 Batch 3:  Cost = 0.7692307829856873 - Validation Accuracy = 0.6105999946594238\n",
      "Epoch 14, CIFAR-10 Batch 4:  Cost = 0.7969520688056946 - Validation Accuracy = 0.5929999947547913\n",
      "Epoch 14, CIFAR-10 Batch 5:  Cost = 0.7192500829696655 - Validation Accuracy = 0.593999981880188\n",
      "Epoch 15, CIFAR-10 Batch 1:  Cost = 0.8147214651107788 - Validation Accuracy = 0.5950000286102295\n",
      "Epoch 15, CIFAR-10 Batch 2:  Cost = 0.7021741271018982 - Validation Accuracy = 0.6123999953269958\n",
      "Epoch 15, CIFAR-10 Batch 3:  Cost = 0.7415840029716492 - Validation Accuracy = 0.6122000217437744\n",
      "Epoch 15, CIFAR-10 Batch 4:  Cost = 0.7308350205421448 - Validation Accuracy = 0.6001999974250793\n",
      "Epoch 15, CIFAR-10 Batch 5:  Cost = 0.7038468718528748 - Validation Accuracy = 0.59579998254776\n",
      "Epoch 16, CIFAR-10 Batch 1:  Cost = 0.764538586139679 - Validation Accuracy = 0.6065999865531921\n",
      "Epoch 16, CIFAR-10 Batch 2:  Cost = 0.6621608734130859 - Validation Accuracy = 0.6197999715805054\n",
      "Epoch 16, CIFAR-10 Batch 3:  Cost = 0.7053393125534058 - Validation Accuracy = 0.6177999973297119\n",
      "Epoch 16, CIFAR-10 Batch 4:  Cost = 0.6797045469284058 - Validation Accuracy = 0.6061999797821045\n",
      "Epoch 16, CIFAR-10 Batch 5:  Cost = 0.661185085773468 - Validation Accuracy = 0.6010000109672546\n",
      "Epoch 17, CIFAR-10 Batch 1:  Cost = 0.7194750905036926 - Validation Accuracy = 0.6123999953269958\n",
      "Epoch 17, CIFAR-10 Batch 2:  Cost = 0.6259649991989136 - Validation Accuracy = 0.6209999918937683\n",
      "Epoch 17, CIFAR-10 Batch 3:  Cost = 0.6641016006469727 - Validation Accuracy = 0.6173999905586243\n",
      "Epoch 17, CIFAR-10 Batch 4:  Cost = 0.6477434039115906 - Validation Accuracy = 0.6101999878883362\n"
     ]
    },
    {
     "name": "stdout",
     "output_type": "stream",
     "text": [
      "Epoch 17, CIFAR-10 Batch 5:  Cost = 0.6216054558753967 - Validation Accuracy = 0.6111999750137329\n",
      "Epoch 18, CIFAR-10 Batch 1:  Cost = 0.6906049251556396 - Validation Accuracy = 0.6136000156402588\n",
      "Epoch 18, CIFAR-10 Batch 2:  Cost = 0.5977116227149963 - Validation Accuracy = 0.6226000189781189\n",
      "Epoch 18, CIFAR-10 Batch 3:  Cost = 0.6379532217979431 - Validation Accuracy = 0.6237999796867371\n",
      "Epoch 18, CIFAR-10 Batch 4:  Cost = 0.6155162453651428 - Validation Accuracy = 0.6111999750137329\n",
      "Epoch 18, CIFAR-10 Batch 5:  Cost = 0.5867624282836914 - Validation Accuracy = 0.6194000244140625\n",
      "Epoch 19, CIFAR-10 Batch 1:  Cost = 0.6710081696510315 - Validation Accuracy = 0.6168000102043152\n",
      "Epoch 19, CIFAR-10 Batch 2:  Cost = 0.5710313320159912 - Validation Accuracy = 0.6263999938964844\n",
      "Epoch 19, CIFAR-10 Batch 3:  Cost = 0.5982357859611511 - Validation Accuracy = 0.628600001335144\n",
      "Epoch 19, CIFAR-10 Batch 4:  Cost = 0.5889804363250732 - Validation Accuracy = 0.609000027179718\n",
      "Epoch 19, CIFAR-10 Batch 5:  Cost = 0.5510854721069336 - Validation Accuracy = 0.6212000250816345\n",
      "Epoch 20, CIFAR-10 Batch 1:  Cost = 0.6495957970619202 - Validation Accuracy = 0.6136000156402588\n",
      "Epoch 20, CIFAR-10 Batch 2:  Cost = 0.5427855849266052 - Validation Accuracy = 0.6304000020027161\n",
      "Epoch 20, CIFAR-10 Batch 3:  Cost = 0.5588947534561157 - Validation Accuracy = 0.6255999803543091\n",
      "Epoch 20, CIFAR-10 Batch 4:  Cost = 0.5613463521003723 - Validation Accuracy = 0.6037999987602234\n",
      "Epoch 20, CIFAR-10 Batch 5:  Cost = 0.5291103720664978 - Validation Accuracy = 0.6226000189781189\n",
      "Epoch 21, CIFAR-10 Batch 1:  Cost = 0.6342036724090576 - Validation Accuracy = 0.6133999824523926\n",
      "Epoch 21, CIFAR-10 Batch 2:  Cost = 0.5264538526535034 - Validation Accuracy = 0.6309999823570251\n",
      "Epoch 21, CIFAR-10 Batch 3:  Cost = 0.5288400650024414 - Validation Accuracy = 0.6245999932289124\n",
      "Epoch 21, CIFAR-10 Batch 4:  Cost = 0.5449330806732178 - Validation Accuracy = 0.6096000075340271\n",
      "Epoch 21, CIFAR-10 Batch 5:  Cost = 0.5221055150032043 - Validation Accuracy = 0.6226000189781189\n",
      "Epoch 22, CIFAR-10 Batch 1:  Cost = 0.6328722238540649 - Validation Accuracy = 0.6060000061988831\n",
      "Epoch 22, CIFAR-10 Batch 2:  Cost = 0.5347601771354675 - Validation Accuracy = 0.6255999803543091\n",
      "Epoch 22, CIFAR-10 Batch 3:  Cost = 0.5095614194869995 - Validation Accuracy = 0.6241999864578247\n",
      "Epoch 22, CIFAR-10 Batch 4:  Cost = 0.552979588508606 - Validation Accuracy = 0.6029999852180481\n",
      "Epoch 22, CIFAR-10 Batch 5:  Cost = 0.49538883566856384 - Validation Accuracy = 0.6161999702453613\n",
      "Epoch 23, CIFAR-10 Batch 1:  Cost = 0.5942478179931641 - Validation Accuracy = 0.6114000082015991\n",
      "Epoch 23, CIFAR-10 Batch 2:  Cost = 0.49364879727363586 - Validation Accuracy = 0.6223999857902527\n",
      "Epoch 23, CIFAR-10 Batch 3:  Cost = 0.4806189239025116 - Validation Accuracy = 0.6295999884605408\n",
      "Epoch 23, CIFAR-10 Batch 4:  Cost = 0.5281679034233093 - Validation Accuracy = 0.6032000184059143\n",
      "Epoch 23, CIFAR-10 Batch 5:  Cost = 0.5495479106903076 - Validation Accuracy = 0.5961999893188477\n",
      "Epoch 24, CIFAR-10 Batch 1:  Cost = 0.601229727268219 - Validation Accuracy = 0.6129999756813049\n",
      "Epoch 24, CIFAR-10 Batch 2:  Cost = 0.5509108304977417 - Validation Accuracy = 0.6083999872207642\n",
      "Epoch 24, CIFAR-10 Batch 3:  Cost = 0.4801429212093353 - Validation Accuracy = 0.6240000128746033\n",
      "Epoch 24, CIFAR-10 Batch 4:  Cost = 0.4846201241016388 - Validation Accuracy = 0.6133999824523926\n",
      "Epoch 24, CIFAR-10 Batch 5:  Cost = 0.49608737230300903 - Validation Accuracy = 0.6082000136375427\n",
      "Epoch 25, CIFAR-10 Batch 1:  Cost = 0.5770301222801208 - Validation Accuracy = 0.6101999878883362\n",
      "Epoch 25, CIFAR-10 Batch 2:  Cost = 0.5449509024620056 - Validation Accuracy = 0.6114000082015991\n",
      "Epoch 25, CIFAR-10 Batch 3:  Cost = 0.4690520167350769 - Validation Accuracy = 0.6262000203132629\n",
      "Epoch 25, CIFAR-10 Batch 4:  Cost = 0.46369534730911255 - Validation Accuracy = 0.6254000067710876\n",
      "Epoch 25, CIFAR-10 Batch 5:  Cost = 0.43113088607788086 - Validation Accuracy = 0.6236000061035156\n",
      "Epoch 26, CIFAR-10 Batch 1:  Cost = 0.5299259424209595 - Validation Accuracy = 0.6205999851226807\n",
      "Epoch 26, CIFAR-10 Batch 2:  Cost = 0.46039992570877075 - Validation Accuracy = 0.6259999871253967\n",
      "Epoch 26, CIFAR-10 Batch 3:  Cost = 0.45485588908195496 - Validation Accuracy = 0.6176000237464905\n",
      "Epoch 26, CIFAR-10 Batch 4:  Cost = 0.5140026211738586 - Validation Accuracy = 0.5950000286102295\n",
      "Epoch 26, CIFAR-10 Batch 5:  Cost = 0.441851407289505 - Validation Accuracy = 0.6241999864578247\n",
      "Epoch 27, CIFAR-10 Batch 1:  Cost = 0.5474739074707031 - Validation Accuracy = 0.6078000068664551\n",
      "Epoch 27, CIFAR-10 Batch 2:  Cost = 0.4515976905822754 - Validation Accuracy = 0.6212000250816345\n",
      "Epoch 27, CIFAR-10 Batch 3:  Cost = 0.42832764983177185 - Validation Accuracy = 0.6281999945640564\n",
      "Epoch 27, CIFAR-10 Batch 4:  Cost = 0.4752346873283386 - Validation Accuracy = 0.5911999940872192\n",
      "Epoch 27, CIFAR-10 Batch 5:  Cost = 0.48186638951301575 - Validation Accuracy = 0.6118000149726868\n",
      "Epoch 28, CIFAR-10 Batch 1:  Cost = 0.5646719336509705 - Validation Accuracy = 0.5979999899864197\n",
      "Epoch 28, CIFAR-10 Batch 2:  Cost = 0.4569338858127594 - Validation Accuracy = 0.6140000224113464\n",
      "Epoch 28, CIFAR-10 Batch 3:  Cost = 0.45878881216049194 - Validation Accuracy = 0.6150000095367432\n",
      "Epoch 28, CIFAR-10 Batch 4:  Cost = 0.4442215859889984 - Validation Accuracy = 0.6079999804496765\n",
      "Epoch 28, CIFAR-10 Batch 5:  Cost = 0.4345465898513794 - Validation Accuracy = 0.6039999723434448\n",
      "Epoch 29, CIFAR-10 Batch 1:  Cost = 0.5190762877464294 - Validation Accuracy = 0.6137999892234802\n",
      "Epoch 29, CIFAR-10 Batch 2:  Cost = 0.4279220998287201 - Validation Accuracy = 0.6150000095367432\n",
      "Epoch 29, CIFAR-10 Batch 3:  Cost = 0.4154447317123413 - Validation Accuracy = 0.6169999837875366\n",
      "Epoch 29, CIFAR-10 Batch 4:  Cost = 0.4047761559486389 - Validation Accuracy = 0.6150000095367432\n",
      "Epoch 29, CIFAR-10 Batch 5:  Cost = 0.41421523690223694 - Validation Accuracy = 0.6132000088691711\n",
      "Epoch 30, CIFAR-10 Batch 1:  Cost = 0.5816813707351685 - Validation Accuracy = 0.5985999703407288\n",
      "Epoch 30, CIFAR-10 Batch 2:  Cost = 0.4244614541530609 - Validation Accuracy = 0.614799976348877\n",
      "Epoch 30, CIFAR-10 Batch 3:  Cost = 0.36372238397598267 - Validation Accuracy = 0.6295999884605408\n",
      "Epoch 30, CIFAR-10 Batch 4:  Cost = 0.3894934356212616 - Validation Accuracy = 0.6086000204086304\n",
      "Epoch 30, CIFAR-10 Batch 5:  Cost = 0.44055604934692383 - Validation Accuracy = 0.6140000224113464\n",
      "Epoch 31, CIFAR-10 Batch 1:  Cost = 0.4491336941719055 - Validation Accuracy = 0.6233999729156494\n",
      "Epoch 31, CIFAR-10 Batch 2:  Cost = 0.4019505977630615 - Validation Accuracy = 0.6164000034332275\n",
      "Epoch 31, CIFAR-10 Batch 3:  Cost = 0.3869971036911011 - Validation Accuracy = 0.6208000183105469\n",
      "Epoch 31, CIFAR-10 Batch 4:  Cost = 0.37246236205101013 - Validation Accuracy = 0.6122000217437744\n",
      "Epoch 31, CIFAR-10 Batch 5:  Cost = 0.40205204486846924 - Validation Accuracy = 0.6123999953269958\n",
      "Epoch 32, CIFAR-10 Batch 1:  Cost = 0.4955455958843231 - Validation Accuracy = 0.6169999837875366\n",
      "Epoch 32, CIFAR-10 Batch 2:  Cost = 0.4074859917163849 - Validation Accuracy = 0.6064000129699707\n",
      "Epoch 32, CIFAR-10 Batch 3:  Cost = 0.41021811962127686 - Validation Accuracy = 0.6065999865531921\n",
      "Epoch 32, CIFAR-10 Batch 4:  Cost = 0.40578022599220276 - Validation Accuracy = 0.6104000210762024\n",
      "Epoch 32, CIFAR-10 Batch 5:  Cost = 0.4174831509590149 - Validation Accuracy = 0.5875999927520752\n",
      "Epoch 33, CIFAR-10 Batch 1:  Cost = 0.5265178084373474 - Validation Accuracy = 0.6161999702453613\n",
      "Epoch 33, CIFAR-10 Batch 2:  Cost = 0.3822852671146393 - Validation Accuracy = 0.6258000135421753\n",
      "Epoch 33, CIFAR-10 Batch 3:  Cost = 0.3509494960308075 - Validation Accuracy = 0.6115999817848206\n",
      "Epoch 33, CIFAR-10 Batch 4:  Cost = 0.35866692662239075 - Validation Accuracy = 0.6065999865531921\n",
      "Epoch 33, CIFAR-10 Batch 5:  Cost = 0.3205137252807617 - Validation Accuracy = 0.6122000217437744\n",
      "Epoch 34, CIFAR-10 Batch 1:  Cost = 0.4053519368171692 - Validation Accuracy = 0.6222000122070312\n",
      "Epoch 34, CIFAR-10 Batch 2:  Cost = 0.3422859013080597 - Validation Accuracy = 0.6406000256538391\n",
      "Epoch 34, CIFAR-10 Batch 3:  Cost = 0.3083275258541107 - Validation Accuracy = 0.6269999742507935\n"
     ]
    },
    {
     "name": "stdout",
     "output_type": "stream",
     "text": [
      "Epoch 34, CIFAR-10 Batch 4:  Cost = 0.3310679495334625 - Validation Accuracy = 0.6068000197410583\n",
      "Epoch 34, CIFAR-10 Batch 5:  Cost = 0.3259541988372803 - Validation Accuracy = 0.6093999743461609\n",
      "Epoch 35, CIFAR-10 Batch 1:  Cost = 0.42376360297203064 - Validation Accuracy = 0.6104000210762024\n",
      "Epoch 35, CIFAR-10 Batch 2:  Cost = 0.331479549407959 - Validation Accuracy = 0.6317999958992004\n",
      "Epoch 35, CIFAR-10 Batch 3:  Cost = 0.3030794858932495 - Validation Accuracy = 0.6273999810218811\n",
      "Epoch 35, CIFAR-10 Batch 4:  Cost = 0.31437814235687256 - Validation Accuracy = 0.6064000129699707\n",
      "Epoch 35, CIFAR-10 Batch 5:  Cost = 0.3149561882019043 - Validation Accuracy = 0.602400004863739\n",
      "Epoch 36, CIFAR-10 Batch 1:  Cost = 0.4076470732688904 - Validation Accuracy = 0.6118000149726868\n",
      "Epoch 36, CIFAR-10 Batch 2:  Cost = 0.28364670276641846 - Validation Accuracy = 0.6312000155448914\n",
      "Epoch 36, CIFAR-10 Batch 3:  Cost = 0.2430223524570465 - Validation Accuracy = 0.6377999782562256\n",
      "Epoch 36, CIFAR-10 Batch 4:  Cost = 0.26163631677627563 - Validation Accuracy = 0.6208000183105469\n",
      "Epoch 36, CIFAR-10 Batch 5:  Cost = 0.2393685132265091 - Validation Accuracy = 0.6230000257492065\n",
      "Epoch 37, CIFAR-10 Batch 1:  Cost = 0.3674636781215668 - Validation Accuracy = 0.6132000088691711\n",
      "Epoch 37, CIFAR-10 Batch 2:  Cost = 0.2654363512992859 - Validation Accuracy = 0.6353999972343445\n",
      "Epoch 37, CIFAR-10 Batch 3:  Cost = 0.22397512197494507 - Validation Accuracy = 0.6381999850273132\n",
      "Epoch 37, CIFAR-10 Batch 4:  Cost = 0.2405981719493866 - Validation Accuracy = 0.6269999742507935\n",
      "Epoch 37, CIFAR-10 Batch 5:  Cost = 0.23060090839862823 - Validation Accuracy = 0.6233999729156494\n",
      "Epoch 38, CIFAR-10 Batch 1:  Cost = 0.33870750665664673 - Validation Accuracy = 0.6172000169754028\n",
      "Epoch 38, CIFAR-10 Batch 2:  Cost = 0.2669808864593506 - Validation Accuracy = 0.6226000189781189\n",
      "Epoch 38, CIFAR-10 Batch 3:  Cost = 0.21703633666038513 - Validation Accuracy = 0.6389999985694885\n",
      "Epoch 38, CIFAR-10 Batch 4:  Cost = 0.2117411494255066 - Validation Accuracy = 0.6344000101089478\n",
      "Epoch 38, CIFAR-10 Batch 5:  Cost = 0.21748007833957672 - Validation Accuracy = 0.6204000115394592\n",
      "Epoch 39, CIFAR-10 Batch 1:  Cost = 0.30645453929901123 - Validation Accuracy = 0.621999979019165\n",
      "Epoch 39, CIFAR-10 Batch 2:  Cost = 0.2628445625305176 - Validation Accuracy = 0.6155999898910522\n",
      "Epoch 39, CIFAR-10 Batch 3:  Cost = 0.2182793915271759 - Validation Accuracy = 0.633400022983551\n",
      "Epoch 39, CIFAR-10 Batch 4:  Cost = 0.20331349968910217 - Validation Accuracy = 0.6331999897956848\n",
      "Epoch 39, CIFAR-10 Batch 5:  Cost = 0.22318212687969208 - Validation Accuracy = 0.6158000230789185\n",
      "Epoch 40, CIFAR-10 Batch 1:  Cost = 0.32072508335113525 - Validation Accuracy = 0.6251999735832214\n",
      "Epoch 40, CIFAR-10 Batch 2:  Cost = 0.237166166305542 - Validation Accuracy = 0.6273999810218811\n",
      "Epoch 40, CIFAR-10 Batch 3:  Cost = 0.2444152981042862 - Validation Accuracy = 0.6110000014305115\n",
      "Epoch 40, CIFAR-10 Batch 4:  Cost = 0.2519727647304535 - Validation Accuracy = 0.6104000210762024\n",
      "Epoch 40, CIFAR-10 Batch 5:  Cost = 0.21249037981033325 - Validation Accuracy = 0.6190000176429749\n",
      "Epoch 41, CIFAR-10 Batch 1:  Cost = 0.28043636679649353 - Validation Accuracy = 0.6215999722480774\n",
      "Epoch 41, CIFAR-10 Batch 2:  Cost = 0.2153988778591156 - Validation Accuracy = 0.6341999769210815\n",
      "Epoch 41, CIFAR-10 Batch 3:  Cost = 0.18988169729709625 - Validation Accuracy = 0.6362000107765198\n",
      "Epoch 41, CIFAR-10 Batch 4:  Cost = 0.23520900309085846 - Validation Accuracy = 0.6083999872207642\n",
      "Epoch 41, CIFAR-10 Batch 5:  Cost = 0.2973133623600006 - Validation Accuracy = 0.5911999940872192\n",
      "Epoch 42, CIFAR-10 Batch 1:  Cost = 0.3229537010192871 - Validation Accuracy = 0.6037999987602234\n",
      "Epoch 42, CIFAR-10 Batch 2:  Cost = 0.22447922825813293 - Validation Accuracy = 0.6208000183105469\n",
      "Epoch 42, CIFAR-10 Batch 3:  Cost = 0.19079285860061646 - Validation Accuracy = 0.6291999816894531\n",
      "Epoch 42, CIFAR-10 Batch 4:  Cost = 0.2433236539363861 - Validation Accuracy = 0.6144000291824341\n",
      "Epoch 42, CIFAR-10 Batch 5:  Cost = 0.23937077820301056 - Validation Accuracy = 0.6079999804496765\n",
      "Epoch 43, CIFAR-10 Batch 1:  Cost = 0.31225138902664185 - Validation Accuracy = 0.6100000143051147\n",
      "Epoch 43, CIFAR-10 Batch 2:  Cost = 0.2727709710597992 - Validation Accuracy = 0.5947999954223633\n",
      "Epoch 43, CIFAR-10 Batch 3:  Cost = 0.25117695331573486 - Validation Accuracy = 0.593999981880188\n",
      "Epoch 43, CIFAR-10 Batch 4:  Cost = 0.2927261292934418 - Validation Accuracy = 0.5884000062942505\n",
      "Epoch 43, CIFAR-10 Batch 5:  Cost = 0.2015051543712616 - Validation Accuracy = 0.6194000244140625\n",
      "Epoch 44, CIFAR-10 Batch 1:  Cost = 0.28810814023017883 - Validation Accuracy = 0.6223999857902527\n",
      "Epoch 44, CIFAR-10 Batch 2:  Cost = 0.2033422887325287 - Validation Accuracy = 0.6222000122070312\n",
      "Epoch 44, CIFAR-10 Batch 3:  Cost = 0.19445183873176575 - Validation Accuracy = 0.6205999851226807\n",
      "Epoch 44, CIFAR-10 Batch 4:  Cost = 0.20882488787174225 - Validation Accuracy = 0.6132000088691711\n",
      "Epoch 44, CIFAR-10 Batch 5:  Cost = 0.19044271111488342 - Validation Accuracy = 0.6349999904632568\n",
      "Epoch 45, CIFAR-10 Batch 1:  Cost = 0.2683810293674469 - Validation Accuracy = 0.6313999891281128\n",
      "Epoch 45, CIFAR-10 Batch 2:  Cost = 0.21699093282222748 - Validation Accuracy = 0.6284000277519226\n",
      "Epoch 45, CIFAR-10 Batch 3:  Cost = 0.1847921460866928 - Validation Accuracy = 0.6308000087738037\n",
      "Epoch 45, CIFAR-10 Batch 4:  Cost = 0.18908055126667023 - Validation Accuracy = 0.6159999966621399\n",
      "Epoch 45, CIFAR-10 Batch 5:  Cost = 0.18009400367736816 - Validation Accuracy = 0.6309999823570251\n",
      "Epoch 46, CIFAR-10 Batch 1:  Cost = 0.2384738326072693 - Validation Accuracy = 0.6313999891281128\n",
      "Epoch 46, CIFAR-10 Batch 2:  Cost = 0.1724395602941513 - Validation Accuracy = 0.631600022315979\n",
      "Epoch 46, CIFAR-10 Batch 3:  Cost = 0.15212123095989227 - Validation Accuracy = 0.6251999735832214\n",
      "Epoch 46, CIFAR-10 Batch 4:  Cost = 0.15334752202033997 - Validation Accuracy = 0.6244000196456909\n",
      "Epoch 46, CIFAR-10 Batch 5:  Cost = 0.13691586256027222 - Validation Accuracy = 0.6353999972343445\n",
      "Epoch 47, CIFAR-10 Batch 1:  Cost = 0.2035239189863205 - Validation Accuracy = 0.6359999775886536\n",
      "Epoch 47, CIFAR-10 Batch 2:  Cost = 0.14582648873329163 - Validation Accuracy = 0.6371999979019165\n",
      "Epoch 47, CIFAR-10 Batch 3:  Cost = 0.13694146275520325 - Validation Accuracy = 0.6236000061035156\n",
      "Epoch 47, CIFAR-10 Batch 4:  Cost = 0.15898166596889496 - Validation Accuracy = 0.6146000027656555\n",
      "Epoch 47, CIFAR-10 Batch 5:  Cost = 0.135006844997406 - Validation Accuracy = 0.6273999810218811\n",
      "Epoch 48, CIFAR-10 Batch 1:  Cost = 0.19307482242584229 - Validation Accuracy = 0.6291999816894531\n",
      "Epoch 48, CIFAR-10 Batch 2:  Cost = 0.14658574759960175 - Validation Accuracy = 0.6366000175476074\n",
      "Epoch 48, CIFAR-10 Batch 3:  Cost = 0.1229325458407402 - Validation Accuracy = 0.6215999722480774\n",
      "Epoch 48, CIFAR-10 Batch 4:  Cost = 0.15800681710243225 - Validation Accuracy = 0.6065999865531921\n",
      "Epoch 48, CIFAR-10 Batch 5:  Cost = 0.13535624742507935 - Validation Accuracy = 0.6172000169754028\n",
      "Epoch 49, CIFAR-10 Batch 1:  Cost = 0.19376859068870544 - Validation Accuracy = 0.6263999938964844\n",
      "Epoch 49, CIFAR-10 Batch 2:  Cost = 0.14061741530895233 - Validation Accuracy = 0.6330000162124634\n",
      "Epoch 49, CIFAR-10 Batch 3:  Cost = 0.11494912207126617 - Validation Accuracy = 0.6237999796867371\n",
      "Epoch 49, CIFAR-10 Batch 4:  Cost = 0.14952664077281952 - Validation Accuracy = 0.6092000007629395\n",
      "Epoch 49, CIFAR-10 Batch 5:  Cost = 0.12813496589660645 - Validation Accuracy = 0.6173999905586243\n",
      "Epoch 50, CIFAR-10 Batch 1:  Cost = 0.21387425065040588 - Validation Accuracy = 0.6083999872207642\n",
      "Epoch 50, CIFAR-10 Batch 2:  Cost = 0.13167089223861694 - Validation Accuracy = 0.625\n",
      "Epoch 50, CIFAR-10 Batch 3:  Cost = 0.13489505648612976 - Validation Accuracy = 0.6100000143051147\n",
      "Epoch 50, CIFAR-10 Batch 4:  Cost = 0.12084002792835236 - Validation Accuracy = 0.6190000176429749\n",
      "Epoch 50, CIFAR-10 Batch 5:  Cost = 0.1420922577381134 - Validation Accuracy = 0.6168000102043152\n"
     ]
    }
   ],
   "source": [
    "\"\"\"\n",
    "DON'T MODIFY ANYTHING IN THIS CELL\n",
    "\"\"\"\n",
    "save_model_path = './image_classification'\n",
    "\n",
    "print('Training...')\n",
    "with tf.Session() as sess:\n",
    "    # Initializing the variables\n",
    "    sess.run(tf.global_variables_initializer())\n",
    "    \n",
    "    # Training cycle\n",
    "    for epoch in range(epochs):\n",
    "        # Loop over all batches\n",
    "        n_batches = 5\n",
    "        for batch_i in range(1, n_batches + 1):\n",
    "            for batch_features, batch_labels in helper.load_preprocess_training_batch(batch_i, batch_size):\n",
    "                train_neural_network(sess, optimizer, keep_probability, batch_features, batch_labels)\n",
    "            print('Epoch {:>2}, CIFAR-10 Batch {}:  '.format(epoch + 1, batch_i), end='')\n",
    "            print_stats(sess, batch_features, batch_labels, cost, accuracy)\n",
    "            \n",
    "    # Save Model\n",
    "    saver = tf.train.Saver()\n",
    "    save_path = saver.save(sess, save_model_path)"
   ]
  },
  {
   "cell_type": "markdown",
   "metadata": {},
   "source": [
    "# 检查点\n",
    "\n",
    "模型已保存到本地。\n",
    "\n",
    "## 测试模型\n",
    "\n",
    "利用测试数据集测试你的模型。这将是最终的准确率。你的准确率应该高于 50%。如果没达到，请继续调整模型结构和参数。"
   ]
  },
  {
   "cell_type": "code",
   "execution_count": 27,
   "metadata": {},
   "outputs": [
    {
     "name": "stdout",
     "output_type": "stream",
     "text": [
      "INFO:tensorflow:Restoring parameters from ./image_classification\n",
      "Testing Accuracy: 0.6235690355300904\n",
      "\n"
     ]
    },
    {
     "data": {
      "image/png": "[encoded data removed]",
      "text/plain": [
       "<Figure size 432x288 with 8 Axes>"
      ]
     },
     "metadata": {
      "image/png": {
       "height": 319,
       "width": 355
      }
     },
     "output_type": "display_data"
    }
   ],
   "source": [
    "\"\"\"\n",
    "DON'T MODIFY ANYTHING IN THIS CELL\n",
    "\"\"\"\n",
    "%matplotlib inline\n",
    "%config InlineBackend.figure_format = 'retina'\n",
    "\n",
    "import tensorflow as tf\n",
    "import pickle\n",
    "import helper\n",
    "import random\n",
    "\n",
    "# Set batch size if not already set\n",
    "try:\n",
    "    if batch_size:\n",
    "        pass\n",
    "except NameError:\n",
    "    batch_size = 64\n",
    "\n",
    "save_model_path = './image_classification'\n",
    "n_samples = 4\n",
    "top_n_predictions = 3\n",
    "\n",
    "def test_model():\n",
    "    \"\"\"\n",
    "    Test the saved model against the test dataset\n",
    "    \"\"\"\n",
    "\n",
    "    test_features, test_labels = pickle.load(open('preprocess_test.p', mode='rb'))\n",
    "    loaded_graph = tf.Graph()\n",
    "\n",
    "    with tf.Session(graph=loaded_graph) as sess:\n",
    "        # Load model\n",
    "        loader = tf.train.import_meta_graph(save_model_path + '.meta')\n",
    "        loader.restore(sess, save_model_path)\n",
    "\n",
    "        # Get Tensors from loaded model\n",
    "        loaded_x = loaded_graph.get_tensor_by_name('x:0')\n",
    "        loaded_y = loaded_graph.get_tensor_by_name('y:0')\n",
    "        loaded_keep_prob = loaded_graph.get_tensor_by_name('keep_prob:0')\n",
    "        loaded_logits = loaded_graph.get_tensor_by_name('logits:0')\n",
    "        loaded_acc = loaded_graph.get_tensor_by_name('accuracy:0')\n",
    "        \n",
    "        # Get accuracy in batches for memory limitations\n",
    "        test_batch_acc_total = 0\n",
    "        test_batch_count = 0\n",
    "        \n",
    "        for test_feature_batch, test_label_batch in helper.batch_features_labels(test_features, test_labels, batch_size):\n",
    "            test_batch_acc_total += sess.run(\n",
    "                loaded_acc,\n",
    "                feed_dict={loaded_x: test_feature_batch, loaded_y: test_label_batch, loaded_keep_prob: 1.0})\n",
    "            test_batch_count += 1\n",
    "\n",
    "        print('Testing Accuracy: {}\\n'.format(test_batch_acc_total/test_batch_count))\n",
    "\n",
    "        # Print Random Samples\n",
    "        random_test_features, random_test_labels = tuple(zip(*random.sample(list(zip(test_features, test_labels)), n_samples)))\n",
    "        random_test_predictions = sess.run(\n",
    "            tf.nn.top_k(tf.nn.softmax(loaded_logits), top_n_predictions),\n",
    "            feed_dict={loaded_x: random_test_features, loaded_y: random_test_labels, loaded_keep_prob: 1.0})\n",
    "        helper.display_image_predictions(random_test_features, random_test_labels, random_test_predictions)\n",
    "\n",
    "\n",
    "test_model()"
   ]
  },
  {
   "cell_type": "markdown",
   "metadata": {},
   "source": [
    "## 为何准确率只有50-80%？\n",
    "\n",
    "你可能想问，为何准确率不能更高了？首先，对于简单的 CNN 网络来说，50% 已经不低了。纯粹猜测的准确率为10%。但是，你可能注意到有人的准确率[远远超过 80%](http://rodrigob.github.io/are_we_there_yet/build/classification_datasets_results.html#43494641522d3130)。这是因为我们还没有介绍所有的神经网络知识。我们还需要掌握一些其他技巧。\n",
    "\n",
    "## 提交项目\n",
    "\n",
    "提交项目时，确保先运行所有单元，然后再保存记事本。将 notebook 文件另存为“dlnd_image_classification.ipynb”，再在目录 \"File\" -> \"Download as\" 另存为 HTML 格式。请在提交的项目中包含 “helper.py” 和 “problem_unittests.py” 文件。\n"
   ]
  }
 ],
 "metadata": {
  "kernelspec": {
   "display_name": "Python 3 TensorFlow",
   "language": "python",
   "name": "py3_tensorflow"
  },
  "language_info": {
   "codemirror_mode": {
    "name": "ipython",
    "version": 3
   },
   "file_extension": ".py",
   "mimetype": "text/x-python",
   "name": "python",
   "nbconvert_exporter": "python",
   "pygments_lexer": "ipython3",
   "version": "3.6.5"
  }
 },
 "nbformat": 4,
 "nbformat_minor": 1
}
