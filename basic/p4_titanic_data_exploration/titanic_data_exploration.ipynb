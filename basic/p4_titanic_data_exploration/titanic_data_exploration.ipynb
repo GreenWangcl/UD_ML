{
 "cells": [
  {
   "cell_type": "markdown",
   "metadata": {},
   "source": [
    "# 探索数据集\n",
    "\n",
    "对于这个项目，你需要进行数据分析，并创建一个文档分享你的发现。你可以首先了解数据集，想想它可以用来回答哪些问题。然后，你应该使用 Pandas 和 NumPy 回答你感兴趣的问题，并编写一份报告，分享你的结论。你不需要使用统计学或机器学习知识来完成此项目，但是你需要在报告中声明，你的结论是暂时的，可能需要进一步改进。这个项目是开放性的，没有标准答案。"
   ]
  },
  {
   "cell_type": "markdown",
   "metadata": {},
   "source": [
    "## 选择数据集\n",
    "\n",
    "本次探索选择使用[**泰坦尼克号数据**](titanic-data.csv)，包括泰坦尼克号上 2224 名乘客和船员中 891 名的人口学数据和乘客基本信息。"
   ]
  },
  {
   "cell_type": "markdown",
   "metadata": {},
   "source": [
    "## 了解数据\n",
    "\n",
    "导入需要的模块并将数据加载到 `Pandas` DataFrame。"
   ]
  },
  {
   "cell_type": "code",
   "execution_count": 1,
   "metadata": {},
   "outputs": [],
   "source": [
    "import numpy as np\n",
    "import pandas as pd\n",
    "%matplotlib inline\n",
    "\n",
    "# 加载数据集\n",
    "in_file = 'titanic-data.csv'\n",
    "full_data = pd.read_csv(in_file)"
   ]
  },
  {
   "cell_type": "markdown",
   "metadata": {},
   "source": [
    "将前几条数据显示出来，方便查看数据特性"
   ]
  },
  {
   "cell_type": "code",
   "execution_count": 2,
   "metadata": {},
   "outputs": [
    {
     "data": {
      "text/html": [
       "<div>\n",
       "<style scoped>\n",
       "    .dataframe tbody tr th:only-of-type {\n",
       "        vertical-align: middle;\n",
       "    }\n",
       "\n",
       "    .dataframe tbody tr th {\n",
       "        vertical-align: top;\n",
       "    }\n",
       "\n",
       "    .dataframe thead th {\n",
       "        text-align: right;\n",
       "    }\n",
       "</style>\n",
       "<table border=\"1\" class=\"dataframe\">\n",
       "  <thead>\n",
       "    <tr style=\"text-align: right;\">\n",
       "      <th></th>\n",
       "      <th>PassengerId</th>\n",
       "      <th>Survived</th>\n",
       "      <th>Pclass</th>\n",
       "      <th>Name</th>\n",
       "      <th>Sex</th>\n",
       "      <th>Age</th>\n",
       "      <th>SibSp</th>\n",
       "      <th>Parch</th>\n",
       "      <th>Ticket</th>\n",
       "      <th>Fare</th>\n",
       "      <th>Cabin</th>\n",
       "      <th>Embarked</th>\n",
       "    </tr>\n",
       "  </thead>\n",
       "  <tbody>\n",
       "    <tr>\n",
       "      <th>0</th>\n",
       "      <td>1</td>\n",
       "      <td>0</td>\n",
       "      <td>3</td>\n",
       "      <td>Braund, Mr. Owen Harris</td>\n",
       "      <td>male</td>\n",
       "      <td>22.0</td>\n",
       "      <td>1</td>\n",
       "      <td>0</td>\n",
       "      <td>A/5 21171</td>\n",
       "      <td>7.2500</td>\n",
       "      <td>NaN</td>\n",
       "      <td>S</td>\n",
       "    </tr>\n",
       "    <tr>\n",
       "      <th>1</th>\n",
       "      <td>2</td>\n",
       "      <td>1</td>\n",
       "      <td>1</td>\n",
       "      <td>Cumings, Mrs. John Bradley (Florence Briggs Th...</td>\n",
       "      <td>female</td>\n",
       "      <td>38.0</td>\n",
       "      <td>1</td>\n",
       "      <td>0</td>\n",
       "      <td>PC 17599</td>\n",
       "      <td>71.2833</td>\n",
       "      <td>C85</td>\n",
       "      <td>C</td>\n",
       "    </tr>\n",
       "    <tr>\n",
       "      <th>2</th>\n",
       "      <td>3</td>\n",
       "      <td>1</td>\n",
       "      <td>3</td>\n",
       "      <td>Heikkinen, Miss. Laina</td>\n",
       "      <td>female</td>\n",
       "      <td>26.0</td>\n",
       "      <td>0</td>\n",
       "      <td>0</td>\n",
       "      <td>STON/O2. 3101282</td>\n",
       "      <td>7.9250</td>\n",
       "      <td>NaN</td>\n",
       "      <td>S</td>\n",
       "    </tr>\n",
       "    <tr>\n",
       "      <th>3</th>\n",
       "      <td>4</td>\n",
       "      <td>1</td>\n",
       "      <td>1</td>\n",
       "      <td>Futrelle, Mrs. Jacques Heath (Lily May Peel)</td>\n",
       "      <td>female</td>\n",
       "      <td>35.0</td>\n",
       "      <td>1</td>\n",
       "      <td>0</td>\n",
       "      <td>113803</td>\n",
       "      <td>53.1000</td>\n",
       "      <td>C123</td>\n",
       "      <td>S</td>\n",
       "    </tr>\n",
       "    <tr>\n",
       "      <th>4</th>\n",
       "      <td>5</td>\n",
       "      <td>0</td>\n",
       "      <td>3</td>\n",
       "      <td>Allen, Mr. William Henry</td>\n",
       "      <td>male</td>\n",
       "      <td>35.0</td>\n",
       "      <td>0</td>\n",
       "      <td>0</td>\n",
       "      <td>373450</td>\n",
       "      <td>8.0500</td>\n",
       "      <td>NaN</td>\n",
       "      <td>S</td>\n",
       "    </tr>\n",
       "  </tbody>\n",
       "</table>\n",
       "</div>"
      ],
      "text/plain": [
       "   PassengerId  Survived  Pclass  \\\n",
       "0            1         0       3   \n",
       "1            2         1       1   \n",
       "2            3         1       3   \n",
       "3            4         1       1   \n",
       "4            5         0       3   \n",
       "\n",
       "                                                Name     Sex   Age  SibSp  \\\n",
       "0                            Braund, Mr. Owen Harris    male  22.0      1   \n",
       "1  Cumings, Mrs. John Bradley (Florence Briggs Th...  female  38.0      1   \n",
       "2                             Heikkinen, Miss. Laina  female  26.0      0   \n",
       "3       Futrelle, Mrs. Jacques Heath (Lily May Peel)  female  35.0      1   \n",
       "4                           Allen, Mr. William Henry    male  35.0      0   \n",
       "\n",
       "   Parch            Ticket     Fare Cabin Embarked  \n",
       "0      0         A/5 21171   7.2500   NaN        S  \n",
       "1      0          PC 17599  71.2833   C85        C  \n",
       "2      0  STON/O2. 3101282   7.9250   NaN        S  \n",
       "3      0            113803  53.1000  C123        S  \n",
       "4      0            373450   8.0500   NaN        S  "
      ]
     },
     "execution_count": 2,
     "metadata": {},
     "output_type": "execute_result"
    }
   ],
   "source": [
    "# 显示数据列表中的前几项乘客数据\n",
    "full_data.head()"
   ]
  },
  {
   "cell_type": "markdown",
   "metadata": {},
   "source": [
    "数据样本每位旅客的特征信息包括：\n",
    "\n",
    "- **PassengerId**：乘客ID\n",
    "- **Survived**：是否存活（0代表否，1代表是）\n",
    "- **Pclass**：船舱等级（1代表上等，2代表中等，3代表低等）\n",
    "- **Name**：乘客名字\n",
    "- **Sex**：乘客性别\n",
    "- **Age**：乘客年龄\n",
    "- **SibSp**：乘客在船上的兄弟姐妹和配偶的数量\n",
    "- **Parch**：乘客在船上的父母以及小孩的数量\n",
    "- **Ticket**：船票的编号\n",
    "- **Fare**：船票价格\n",
    "- **Cabin**：乘客所在船舱的编号\n",
    "- **Embarked**：乘客上船的港口（C 代表 Cherbourg ，Q 代表 Queenstown ，S 代表 Southampton ）\n",
    "\n",
    "*可以在 [Kaggle 网站](https://www.kaggle.com/c/titanic/data) 查看数据集的详细描述*"
   ]
  },
  {
   "cell_type": "markdown",
   "metadata": {},
   "source": [
    "查看缺失信息："
   ]
  },
  {
   "cell_type": "code",
   "execution_count": 3,
   "metadata": {},
   "outputs": [
    {
     "data": {
      "text/plain": [
       "PassengerId      0\n",
       "Survived         0\n",
       "Pclass           0\n",
       "Name             0\n",
       "Sex              0\n",
       "Age            177\n",
       "SibSp            0\n",
       "Parch            0\n",
       "Ticket           0\n",
       "Fare             0\n",
       "Cabin          687\n",
       "Embarked         2\n",
       "dtype: int64"
      ]
     },
     "execution_count": 3,
     "metadata": {},
     "output_type": "execute_result"
    }
   ],
   "source": [
    "full_data.isnull().sum()"
   ]
  },
  {
   "cell_type": "markdown",
   "metadata": {},
   "source": [
    "- Age 存在177条缺失值\n",
    "- Cabin 存在687条缺失值\n",
    "- Embarked 存在2条缺失值"
   ]
  },
  {
   "cell_type": "markdown",
   "metadata": {},
   "source": [
    "## 提出问题\n",
    "\n",
    "有哪些因素会让船上的人生还率更高？\n",
    "\n",
    "根据对数据的初步了解，假设有以下因素可能影响生还率：\n",
    "- 性别\n",
    "- 年龄\n",
    "- 船舱等级"
   ]
  },
  {
   "cell_type": "markdown",
   "metadata": {},
   "source": [
    "## 数据整理\n",
    "\n",
    "### 对缺失值的处理\n",
    "\n",
    "根据提出的问题假设，在可能对生还率有影响的因素中，只有年龄有缺失值，在对年龄因素进行研究时将舍弃年龄缺失的记录。\n",
    "\n",
    "### 筛选数据\n",
    "\n",
    "从原数据中过滤乘客的 *Survived*、*Sex*、*Age*、*Pclass* 信息。"
   ]
  },
  {
   "cell_type": "code",
   "execution_count": 4,
   "metadata": {},
   "outputs": [
    {
     "data": {
      "text/html": [
       "<div>\n",
       "<style scoped>\n",
       "    .dataframe tbody tr th:only-of-type {\n",
       "        vertical-align: middle;\n",
       "    }\n",
       "\n",
       "    .dataframe tbody tr th {\n",
       "        vertical-align: top;\n",
       "    }\n",
       "\n",
       "    .dataframe thead th {\n",
       "        text-align: right;\n",
       "    }\n",
       "</style>\n",
       "<table border=\"1\" class=\"dataframe\">\n",
       "  <thead>\n",
       "    <tr style=\"text-align: right;\">\n",
       "      <th></th>\n",
       "      <th>Survived</th>\n",
       "      <th>Sex</th>\n",
       "      <th>Age</th>\n",
       "      <th>Pclass</th>\n",
       "    </tr>\n",
       "  </thead>\n",
       "  <tbody>\n",
       "    <tr>\n",
       "      <th>0</th>\n",
       "      <td>0</td>\n",
       "      <td>male</td>\n",
       "      <td>22.0</td>\n",
       "      <td>3</td>\n",
       "    </tr>\n",
       "    <tr>\n",
       "      <th>1</th>\n",
       "      <td>1</td>\n",
       "      <td>female</td>\n",
       "      <td>38.0</td>\n",
       "      <td>1</td>\n",
       "    </tr>\n",
       "    <tr>\n",
       "      <th>2</th>\n",
       "      <td>1</td>\n",
       "      <td>female</td>\n",
       "      <td>26.0</td>\n",
       "      <td>3</td>\n",
       "    </tr>\n",
       "    <tr>\n",
       "      <th>3</th>\n",
       "      <td>1</td>\n",
       "      <td>female</td>\n",
       "      <td>35.0</td>\n",
       "      <td>1</td>\n",
       "    </tr>\n",
       "    <tr>\n",
       "      <th>4</th>\n",
       "      <td>0</td>\n",
       "      <td>male</td>\n",
       "      <td>35.0</td>\n",
       "      <td>3</td>\n",
       "    </tr>\n",
       "  </tbody>\n",
       "</table>\n",
       "</div>"
      ],
      "text/plain": [
       "   Survived     Sex   Age  Pclass\n",
       "0         0    male  22.0       3\n",
       "1         1  female  38.0       1\n",
       "2         1  female  26.0       3\n",
       "3         1  female  35.0       1\n",
       "4         0    male  35.0       3"
      ]
     },
     "execution_count": 4,
     "metadata": {},
     "output_type": "execute_result"
    }
   ],
   "source": [
    "data = full_data[['Survived', 'Sex', 'Age', 'Pclass']]\n",
    "data.head()"
   ]
  },
  {
   "cell_type": "markdown",
   "metadata": {},
   "source": [
    "## 分析数据\n",
    "\n",
    "对问题假设的因素分别单因素和多因素分析。"
   ]
  },
  {
   "cell_type": "markdown",
   "metadata": {},
   "source": [
    "### 单因素\n",
    "\n",
    "针对单因素将采用以下分析方式：\n",
    "  - 删除缺失值\n",
    "  - 统计该因素下不同值（区间）乘客的生还率\n",
    "  - 使用直方图显示生还率"
   ]
  },
  {
   "cell_type": "code",
   "execution_count": 5,
   "metadata": {},
   "outputs": [],
   "source": [
    "# 区间分组\n",
    "def cla_section_group(n, lim):\n",
    "    return '[%d, %d)' % (lim * (n // lim), lim * (n // lim) + lim)\n",
    "\n",
    "# 对值因素的分析\n",
    "def analysis(element):\n",
    "    # 筛选数据，并删除缺失值\n",
    "    element_data = data[['Survived', element]].dropna()\n",
    "    \n",
    "    # 年龄需要按照区间分组\n",
    "    if element == 'Age':\n",
    "        # 将值转换成区间值，并生成新 DataFrame\n",
    "        section_group = pd.DataFrame({\n",
    "            'element_group':[cla_section_group(section, 10) for section in element_data[element]]\n",
    "        })\n",
    "    \n",
    "        # 将区间 DataFrame 与生存数据合并\n",
    "        groupby_section = pd.concat([data['Survived'], section_group], axis=1)\n",
    "    \n",
    "        # 按照区间分组\n",
    "        groupby_element = groupby_section.groupby('element_group')\n",
    "    else:\n",
    "        groupby_element = element_data.groupby(element)\n",
    "    \n",
    "    print \"生还人数：\"\n",
    "    survived_groupby_element = groupby_element.sum()\n",
    "    print survived_groupby_element\n",
    "    \n",
    "    print \"=====================\"\n",
    "    print \"总人数：\"\n",
    "    total_groupby_element = groupby_element.count()\n",
    "    print total_groupby_element\n",
    "    \n",
    "    print \"=====================\"\n",
    "    print \"生还率：\"\n",
    "    survived_rate_element = survived_groupby_element / total_groupby_element\n",
    "    print survived_rate_element\n",
    "    \n",
    "    # 直方图显示生还率\n",
    "    plt = survived_rate_element.plot(kind='bar')\n",
    "    plt.set_title(element + ' Survival Rate')\n",
    "    plt.set_ylabel('Survival Rate')"
   ]
  },
  {
   "cell_type": "markdown",
   "metadata": {},
   "source": [
    "#### 分析性别对生存率的影响"
   ]
  },
  {
   "cell_type": "code",
   "execution_count": 6,
   "metadata": {},
   "outputs": [
    {
     "name": "stdout",
     "output_type": "stream",
     "text": [
      "生还人数：\n",
      "        Survived\n",
      "Sex             \n",
      "female       233\n",
      "male         109\n",
      "=====================\n",
      "总人数：\n",
      "        Survived\n",
      "Sex             \n",
      "female       314\n",
      "male         577\n",
      "=====================\n",
      "生还率：\n",
      "        Survived\n",
      "Sex             \n",
      "female  0.742038\n",
      "male    0.188908\n"
     ]
    },
    {
     "data": {
      "image/png": "[encoded data removed]",
      "text/plain": [
       "<Figure size 432x288 with 1 Axes>"
      ]
     },
     "metadata": {},
     "output_type": "display_data"
    }
   ],
   "source": [
    "analysis('Sex')"
   ]
  },
  {
   "cell_type": "markdown",
   "metadata": {},
   "source": [
    "通过分析发现女性的生还率远远高于男性的生还率。\n",
    "\n",
    "按常理推测，男性的强壮性比女性高，生存几率应该较大。出现这种情况，有可能是男性协助女性逃生，或者说将生存机会让给女性。"
   ]
  },
  {
   "cell_type": "markdown",
   "metadata": {},
   "source": [
    "#### 分析年龄生存率对生存率的影响"
   ]
  },
  {
   "cell_type": "code",
   "execution_count": 7,
   "metadata": {},
   "outputs": [
    {
     "name": "stdout",
     "output_type": "stream",
     "text": [
      "生还人数：\n",
      "               Survived\n",
      "element_group          \n",
      "[0, 10)              19\n",
      "[10, 20)             38\n",
      "[20, 30)             91\n",
      "[30, 40)             77\n",
      "[40, 50)             30\n",
      "[50, 60)             17\n",
      "[60, 70)              4\n",
      "[70, 80)              3\n",
      "[80, 90)              0\n",
      "=====================\n",
      "总人数：\n",
      "               Survived\n",
      "element_group          \n",
      "[0, 10)              62\n",
      "[10, 20)            102\n",
      "[20, 30)            220\n",
      "[30, 40)            167\n",
      "[40, 50)             89\n",
      "[50, 60)             48\n",
      "[60, 70)             19\n",
      "[70, 80)              6\n",
      "[80, 90)              1\n",
      "=====================\n",
      "生还率：\n",
      "               Survived\n",
      "element_group          \n",
      "[0, 10)        0.306452\n",
      "[10, 20)       0.372549\n",
      "[20, 30)       0.413636\n",
      "[30, 40)       0.461078\n",
      "[40, 50)       0.337079\n",
      "[50, 60)       0.354167\n",
      "[60, 70)       0.210526\n",
      "[70, 80)       0.500000\n",
      "[80, 90)       0.000000\n"
     ]
    },
    {
     "data": {
      "image/png": "[encoded data removed]",
      "text/plain": [
       "<Figure size 432x288 with 1 Axes>"
      ]
     },
     "metadata": {},
     "output_type": "display_data"
    }
   ],
   "source": [
    "analysis('Age')"
   ]
  },
  {
   "cell_type": "markdown",
   "metadata": {},
   "source": [
    "通过分析发现年龄在10~40岁之间的乘客不仅存活人数较多，而且生存率也较高。其中70~80分组中因为总过只有6人，总量比较少，属于特例。\n",
    "\n",
    "可能的原因是10~40岁的人体力更好，能够坚持更长时间等待救援。"
   ]
  },
  {
   "cell_type": "markdown",
   "metadata": {},
   "source": [
    "#### 分析船舱等级对生存率的影响"
   ]
  },
  {
   "cell_type": "code",
   "execution_count": 8,
   "metadata": {},
   "outputs": [
    {
     "name": "stdout",
     "output_type": "stream",
     "text": [
      "生还人数：\n",
      "        Survived\n",
      "Pclass          \n",
      "1            136\n",
      "2             87\n",
      "3            119\n",
      "=====================\n",
      "总人数：\n",
      "        Survived\n",
      "Pclass          \n",
      "1            216\n",
      "2            184\n",
      "3            491\n",
      "=====================\n",
      "生还率：\n",
      "        Survived\n",
      "Pclass          \n",
      "1       0.629630\n",
      "2       0.472826\n",
      "3       0.242363\n"
     ]
    },
    {
     "data": {
      "image/png": "[encoded data removed]",
      "text/plain": [
       "<Figure size 432x288 with 1 Axes>"
      ]
     },
     "metadata": {},
     "output_type": "display_data"
    }
   ],
   "source": [
    "analysis('Pclass')"
   ]
  },
  {
   "cell_type": "markdown",
   "metadata": {},
   "source": [
    "通过分析发现船舱等级越高，生存率越高。但是等级越高的船舱票价也越高，可以购买的乘客也越少，无法准确判断船舱等级是否会影响生存率。"
   ]
  },
  {
   "cell_type": "markdown",
   "metadata": {},
   "source": [
    "### 双因素分析\n",
    "\n",
    "针对双因素采取以下分析方式：\n",
    "- 删除缺失值\n",
    "- 统计不同因素下乘客的生还率\n",
    "- 使用直方图显示生还率"
   ]
  },
  {
   "cell_type": "code",
   "execution_count": 9,
   "metadata": {},
   "outputs": [],
   "source": [
    "# 对双因素分析\n",
    "def double_analysis(element1, element2):\n",
    "    # 筛选数据，并删除缺失值\n",
    "    element_data = data[['Survived', element1, element2]].dropna()\n",
    "    \n",
    "    # 对因素进行分组\n",
    "    if element1 == 'Age' or element2 == 'Age':\n",
    "        # 年龄需要按照区间分组\n",
    "        age_element = element1\n",
    "        element = element2\n",
    "        if element2 == 'Age':\n",
    "            age_element = element2\n",
    "            element = element1\n",
    "        # 将值转换成区间值，并生成新 DataFrame\n",
    "        section_group = pd.DataFrame({\n",
    "            'element_group':[cla_section_group(section, 10) for section in element_data[age_element]]\n",
    "        })\n",
    "    \n",
    "        # 将区间 DataFrame 与生存数据合并\n",
    "        groupby_section = pd.concat([element_data['Survived'], element_data[element], section_group], axis=1)\n",
    "    \n",
    "        # 按照区间分组\n",
    "        groupby_element = groupby_section.groupby(['element_group', element])['Survived']\n",
    "    else:\n",
    "        groupby_element = element_data.groupby([element1, element2])['Survived']\n",
    "    \n",
    "    print \"生还人数：\"\n",
    "    survived_groupby_element = groupby_element.sum()\n",
    "    print survived_groupby_element\n",
    "    \n",
    "    print \"=====================\"\n",
    "    print \"总人数：\"\n",
    "    total_groupby_element = groupby_element.count()\n",
    "    print total_groupby_element\n",
    "    \n",
    "    print \"=====================\"\n",
    "    print \"生还率：\"\n",
    "    survived_rate_element = survived_groupby_element / total_groupby_element\n",
    "    print survived_rate_element\n",
    "    \n",
    "    # 直方图显示生还率\n",
    "    plt = survived_rate_element.unstack().plot(kind='bar')\n",
    "    plt.set_title(element1 + \" + \" + element2 + ' Survival Rate')\n",
    "    plt.set_xlabel(element1 + \" + \" + element2)\n",
    "    plt.set_ylabel('Survival Rate')"
   ]
  },
  {
   "cell_type": "markdown",
   "metadata": {},
   "source": [
    "#### 分析船舱等级&性别对生存率的影响"
   ]
  },
  {
   "cell_type": "code",
   "execution_count": 10,
   "metadata": {},
   "outputs": [
    {
     "name": "stdout",
     "output_type": "stream",
     "text": [
      "生还人数：\n",
      "Pclass  Sex   \n",
      "1       female    91\n",
      "        male      45\n",
      "2       female    70\n",
      "        male      17\n",
      "3       female    72\n",
      "        male      47\n",
      "Name: Survived, dtype: int64\n",
      "=====================\n",
      "总人数：\n",
      "Pclass  Sex   \n",
      "1       female     94\n",
      "        male      122\n",
      "2       female     76\n",
      "        male      108\n",
      "3       female    144\n",
      "        male      347\n",
      "Name: Survived, dtype: int64\n",
      "=====================\n",
      "生还率：\n",
      "Pclass  Sex   \n",
      "1       female    0.968085\n",
      "        male      0.368852\n",
      "2       female    0.921053\n",
      "        male      0.157407\n",
      "3       female    0.500000\n",
      "        male      0.135447\n",
      "Name: Survived, dtype: float64\n"
     ]
    },
    {
     "data": {
      "image/png": "[encoded data removed]",
      "text/plain": [
       "<Figure size 432x288 with 1 Axes>"
      ]
     },
     "metadata": {},
     "output_type": "display_data"
    }
   ],
   "source": [
    "double_analysis('Pclass', 'Sex')"
   ]
  },
  {
   "cell_type": "markdown",
   "metadata": {},
   "source": [
    "通过分析发现，不管是男性还是女性，船舱等级越高生存率越高。"
   ]
  },
  {
   "cell_type": "markdown",
   "metadata": {},
   "source": [
    "#### 分析性别&年龄对生存率的影响"
   ]
  },
  {
   "cell_type": "code",
   "execution_count": 11,
   "metadata": {},
   "outputs": [
    {
     "name": "stdout",
     "output_type": "stream",
     "text": [
      "生还人数：\n",
      "element_group  Sex   \n",
      "[0, 10)        female     9.0\n",
      "               male       9.0\n",
      "[10, 20)       female    18.0\n",
      "               male      13.0\n",
      "[20, 30)       female    58.0\n",
      "               male      19.0\n",
      "[30, 40)       female    39.0\n",
      "               male      21.0\n",
      "[40, 50)       female    18.0\n",
      "               male       7.0\n",
      "[50, 60)       female    10.0\n",
      "               male       4.0\n",
      "[60, 70)       female     3.0\n",
      "               male       1.0\n",
      "[70, 80)       female     1.0\n",
      "               male       2.0\n",
      "[80, 90)       female     0.0\n",
      "Name: Survived, dtype: float64\n",
      "=====================\n",
      "总人数：\n",
      "element_group  Sex   \n",
      "[0, 10)        female     16\n",
      "               male       37\n",
      "[10, 20)       female     24\n",
      "               male       58\n",
      "[20, 30)       female     71\n",
      "               male      106\n",
      "[30, 40)       female     50\n",
      "               male       78\n",
      "[40, 50)       female     25\n",
      "               male       44\n",
      "[50, 60)       female     14\n",
      "               male       21\n",
      "[60, 70)       female      6\n",
      "               male       11\n",
      "[70, 80)       female      1\n",
      "               male        4\n",
      "[80, 90)       female      1\n",
      "Name: Survived, dtype: int64\n",
      "=====================\n",
      "生还率：\n",
      "element_group  Sex   \n",
      "[0, 10)        female    0.562500\n",
      "               male      0.243243\n",
      "[10, 20)       female    0.750000\n",
      "               male      0.224138\n",
      "[20, 30)       female    0.816901\n",
      "               male      0.179245\n",
      "[30, 40)       female    0.780000\n",
      "               male      0.269231\n",
      "[40, 50)       female    0.720000\n",
      "               male      0.159091\n",
      "[50, 60)       female    0.714286\n",
      "               male      0.190476\n",
      "[60, 70)       female    0.500000\n",
      "               male      0.090909\n",
      "[70, 80)       female    1.000000\n",
      "               male      0.500000\n",
      "[80, 90)       female    0.000000\n",
      "Name: Survived, dtype: float64\n"
     ]
    },
    {
     "data": {
      "image/png": "[encoded data removed]",
      "text/plain": [
       "<Figure size 432x288 with 1 Axes>"
      ]
     },
     "metadata": {},
     "output_type": "display_data"
    }
   ],
   "source": [
    "double_analysis('Sex', 'Age')"
   ]
  },
  {
   "cell_type": "markdown",
   "metadata": {},
   "source": [
    "通过分析发现，不管什么年龄，女性的生存率均高于男性。"
   ]
  },
  {
   "cell_type": "markdown",
   "metadata": {},
   "source": [
    "#### 分析船舱等级&年龄对生存率的影响"
   ]
  },
  {
   "cell_type": "code",
   "execution_count": 12,
   "metadata": {},
   "outputs": [
    {
     "name": "stdout",
     "output_type": "stream",
     "text": [
      "生还人数：\n",
      "element_group  Pclass\n",
      "[0, 10)        1.0        9.0\n",
      "               2.0        5.0\n",
      "               3.0        4.0\n",
      "[10, 20)       1.0       11.0\n",
      "               2.0        9.0\n",
      "               3.0       11.0\n",
      "[20, 30)       1.0       36.0\n",
      "               2.0       22.0\n",
      "               3.0       19.0\n",
      "[30, 40)       1.0       25.0\n",
      "               2.0       18.0\n",
      "               3.0       17.0\n",
      "[40, 50)       1.0        7.0\n",
      "               2.0       10.0\n",
      "               3.0        8.0\n",
      "[50, 60)       1.0        4.0\n",
      "               2.0        4.0\n",
      "               3.0        6.0\n",
      "[60, 70)       1.0        3.0\n",
      "               2.0        0.0\n",
      "               3.0        1.0\n",
      "[70, 80)       1.0        2.0\n",
      "               3.0        1.0\n",
      "[80, 90)       1.0        0.0\n",
      "Name: Survived, dtype: float64\n",
      "=====================\n",
      "总人数：\n",
      "element_group  Pclass\n",
      "[0, 10)        1.0       15\n",
      "               2.0       10\n",
      "               3.0       28\n",
      "[10, 20)       1.0       24\n",
      "               2.0       21\n",
      "               3.0       37\n",
      "[20, 30)       1.0       51\n",
      "               2.0       43\n",
      "               3.0       83\n",
      "[30, 40)       1.0       33\n",
      "               2.0       33\n",
      "               3.0       62\n",
      "[40, 50)       1.0       15\n",
      "               2.0       20\n",
      "               3.0       34\n",
      "[50, 60)       1.0        6\n",
      "               2.0        8\n",
      "               3.0       21\n",
      "[60, 70)       1.0        5\n",
      "               2.0        2\n",
      "               3.0       10\n",
      "[70, 80)       1.0        2\n",
      "               3.0        3\n",
      "[80, 90)       1.0        1\n",
      "Name: Survived, dtype: int64\n",
      "=====================\n",
      "生还率：\n",
      "element_group  Pclass\n",
      "[0, 10)        1.0       0.600000\n",
      "               2.0       0.500000\n",
      "               3.0       0.142857\n",
      "[10, 20)       1.0       0.458333\n",
      "               2.0       0.428571\n",
      "               3.0       0.297297\n",
      "[20, 30)       1.0       0.705882\n",
      "               2.0       0.511628\n",
      "               3.0       0.228916\n",
      "[30, 40)       1.0       0.757576\n",
      "               2.0       0.545455\n",
      "               3.0       0.274194\n",
      "[40, 50)       1.0       0.466667\n",
      "               2.0       0.500000\n",
      "               3.0       0.235294\n",
      "[50, 60)       1.0       0.666667\n",
      "               2.0       0.500000\n",
      "               3.0       0.285714\n",
      "[60, 70)       1.0       0.600000\n",
      "               2.0       0.000000\n",
      "               3.0       0.100000\n",
      "[70, 80)       1.0       1.000000\n",
      "               3.0       0.333333\n",
      "[80, 90)       1.0       0.000000\n",
      "Name: Survived, dtype: float64\n"
     ]
    },
    {
     "data": {
      "image/png": "[encoded data removed]",
      "text/plain": [
       "<Figure size 432x288 with 1 Axes>"
      ]
     },
     "metadata": {},
     "output_type": "display_data"
    }
   ],
   "source": [
    "double_analysis('Pclass', 'Age')"
   ]
  },
  {
   "cell_type": "markdown",
   "metadata": {},
   "source": [
    "通过分析发现，不管什么年龄，船舱等级越高生存率都会越高。"
   ]
  },
  {
   "cell_type": "markdown",
   "metadata": {},
   "source": [
    "## 分析总结\n",
    "\n",
    "从以上分析可以得出以下几个结论：\n",
    "\n",
    "- 不论年龄、性别，船舱等级越高生还率越高\n",
    "- 不论年龄、船舱等级，女性生还率最高"
   ]
  },
  {
   "cell_type": "markdown",
   "metadata": {},
   "source": [
    "## 初步结论\n",
    "\n",
    "  通过对泰坦尼克号上 2224 名乘客和船员中 891 名的人口学数据和乘客基本信息的分析，对于问题“有哪些因素会让船上的人生还率更高？”得出以下初步结论：\n",
    "\n",
    "1. 舱房等级、性别、年龄是影响生还率的因素\n",
    "2. 住高等级舱房的女性，其生还率是最高的\n",
    "\n",
    "然而，由于不清楚样本是否随机选取、样本量不大，且样本数据中存在信息缺失，初步结论并无法表明这三个因素与“生还率”具有相关性。"
   ]
  },
  {
   "cell_type": "markdown",
   "metadata": {},
   "source": [
    "## 参考信息来源\n",
    "\n",
    "- [探索数据集——Titanic](https://blog.csdn.net/patrickzheng/article/details/73843594)\n",
    "- [Udacity机器学习入门项目4:探索数据集](https://blog.csdn.net/zhe1110/article/details/79001012)"
   ]
  }
 ],
 "metadata": {
  "kernelspec": {
   "display_name": "Python 2",
   "language": "python",
   "name": "python2"
  },
  "language_info": {
   "codemirror_mode": {
    "name": "ipython",
    "version": 2
   },
   "file_extension": ".py",
   "mimetype": "text/x-python",
   "name": "python",
   "nbconvert_exporter": "python",
   "pygments_lexer": "ipython2",
   "version": "2.7.14"
  }
 },
 "nbformat": 4,
 "nbformat_minor": 2
}
